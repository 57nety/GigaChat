{
  "nbformat": 4,
  "nbformat_minor": 0,
  "metadata": {
    "colab": {
      "provenance": [],
      "authorship_tag": "ABX9TyMZB05y32lYH5gFALYXZJZ6",
      "include_colab_link": true
    },
    "kernelspec": {
      "name": "python3",
      "display_name": "Python 3"
    },
    "language_info": {
      "name": "python"
    }
  },
  "cells": [
    {
      "cell_type": "markdown",
      "metadata": {
        "id": "view-in-github",
        "colab_type": "text"
      },
      "source": [
        "<a href=\"https://colab.research.google.com/github/57nety/GigaChat/blob/main/GigaChat.ipynb\" target=\"_parent\"><img src=\"https://colab.research.google.com/assets/colab-badge.svg\" alt=\"Open In Colab\"/></a>"
      ]
    },
    {
      "cell_type": "code",
      "execution_count": 9,
      "metadata": {
        "colab": {
          "base_uri": "https://localhost:8080/"
        },
        "collapsed": true,
        "id": "8u3zdmngfsba",
        "outputId": "c33054ae-ed8d-4868-8f30-57d250476d6f"
      },
      "outputs": [
        {
          "output_type": "stream",
          "name": "stdout",
          "text": [
            "Requirement already satisfied: gigachain in /usr/local/lib/python3.11/dist-packages (0.2.16)\n",
            "Requirement already satisfied: PyYAML>=5.3 in /usr/local/lib/python3.11/dist-packages (from gigachain) (6.0.2)\n",
            "Requirement already satisfied: SQLAlchemy<3,>=1.4 in /usr/local/lib/python3.11/dist-packages (from gigachain) (2.0.40)\n",
            "Requirement already satisfied: aiohttp<4.0.0,>=3.8.3 in /usr/local/lib/python3.11/dist-packages (from gigachain) (3.11.15)\n",
            "Requirement already satisfied: gigachain-core<0.3.0,>=0.2.38 in /usr/local/lib/python3.11/dist-packages (from gigachain) (0.2.38.post2)\n",
            "Requirement already satisfied: gigachain-text-splitters<0.3.0,>=0.2.0 in /usr/local/lib/python3.11/dist-packages (from gigachain) (0.2.4)\n",
            "Requirement already satisfied: gigachat<0.2.0,>=0.1.35 in /usr/local/lib/python3.11/dist-packages (from gigachain) (0.1.39.post1)\n",
            "Requirement already satisfied: langsmith<0.2.0,>=0.1.17 in /usr/local/lib/python3.11/dist-packages (from gigachain) (0.1.147)\n",
            "Collecting numpy<2,>=1 (from gigachain)\n",
            "  Using cached numpy-1.26.4-cp311-cp311-manylinux_2_17_x86_64.manylinux2014_x86_64.whl.metadata (61 kB)\n",
            "Requirement already satisfied: pydantic<3,>=1 in /usr/local/lib/python3.11/dist-packages (from gigachain) (2.11.2)\n",
            "Requirement already satisfied: requests<3,>=2 in /usr/local/lib/python3.11/dist-packages (from gigachain) (2.32.3)\n",
            "Requirement already satisfied: tenacity!=8.4.0,<9.0.0,>=8.1.0 in /usr/local/lib/python3.11/dist-packages (from gigachain) (8.5.0)\n",
            "Requirement already satisfied: aiohappyeyeballs>=2.3.0 in /usr/local/lib/python3.11/dist-packages (from aiohttp<4.0.0,>=3.8.3->gigachain) (2.6.1)\n",
            "Requirement already satisfied: aiosignal>=1.1.2 in /usr/local/lib/python3.11/dist-packages (from aiohttp<4.0.0,>=3.8.3->gigachain) (1.3.2)\n",
            "Requirement already satisfied: attrs>=17.3.0 in /usr/local/lib/python3.11/dist-packages (from aiohttp<4.0.0,>=3.8.3->gigachain) (25.3.0)\n",
            "Requirement already satisfied: frozenlist>=1.1.1 in /usr/local/lib/python3.11/dist-packages (from aiohttp<4.0.0,>=3.8.3->gigachain) (1.5.0)\n",
            "Requirement already satisfied: multidict<7.0,>=4.5 in /usr/local/lib/python3.11/dist-packages (from aiohttp<4.0.0,>=3.8.3->gigachain) (6.2.0)\n",
            "Requirement already satisfied: propcache>=0.2.0 in /usr/local/lib/python3.11/dist-packages (from aiohttp<4.0.0,>=3.8.3->gigachain) (0.3.1)\n",
            "Requirement already satisfied: yarl<2.0,>=1.17.0 in /usr/local/lib/python3.11/dist-packages (from aiohttp<4.0.0,>=3.8.3->gigachain) (1.18.3)\n",
            "Requirement already satisfied: jsonpatch<2.0,>=1.33 in /usr/local/lib/python3.11/dist-packages (from gigachain-core<0.3.0,>=0.2.38->gigachain) (1.33)\n",
            "Requirement already satisfied: langfuse<3.0.0,>=2.41.0 in /usr/local/lib/python3.11/dist-packages (from gigachain-core<0.3.0,>=0.2.38->gigachain) (2.60.2)\n",
            "Requirement already satisfied: packaging<25,>=23.2 in /usr/local/lib/python3.11/dist-packages (from gigachain-core<0.3.0,>=0.2.38->gigachain) (24.2)\n",
            "Requirement already satisfied: typing-extensions>=4.7 in /usr/local/lib/python3.11/dist-packages (from gigachain-core<0.3.0,>=0.2.38->gigachain) (4.13.1)\n",
            "Requirement already satisfied: httpx<1 in /usr/local/lib/python3.11/dist-packages (from gigachat<0.2.0,>=0.1.35->gigachain) (0.28.1)\n",
            "Requirement already satisfied: orjson<4.0.0,>=3.9.14 in /usr/local/lib/python3.11/dist-packages (from langsmith<0.2.0,>=0.1.17->gigachain) (3.10.16)\n",
            "Requirement already satisfied: requests-toolbelt<2.0.0,>=1.0.0 in /usr/local/lib/python3.11/dist-packages (from langsmith<0.2.0,>=0.1.17->gigachain) (1.0.0)\n",
            "Requirement already satisfied: annotated-types>=0.6.0 in /usr/local/lib/python3.11/dist-packages (from pydantic<3,>=1->gigachain) (0.7.0)\n",
            "Requirement already satisfied: pydantic-core==2.33.1 in /usr/local/lib/python3.11/dist-packages (from pydantic<3,>=1->gigachain) (2.33.1)\n",
            "Requirement already satisfied: typing-inspection>=0.4.0 in /usr/local/lib/python3.11/dist-packages (from pydantic<3,>=1->gigachain) (0.4.0)\n",
            "Requirement already satisfied: charset-normalizer<4,>=2 in /usr/local/lib/python3.11/dist-packages (from requests<3,>=2->gigachain) (3.4.1)\n",
            "Requirement already satisfied: idna<4,>=2.5 in /usr/local/lib/python3.11/dist-packages (from requests<3,>=2->gigachain) (3.10)\n",
            "Requirement already satisfied: urllib3<3,>=1.21.1 in /usr/local/lib/python3.11/dist-packages (from requests<3,>=2->gigachain) (2.3.0)\n",
            "Requirement already satisfied: certifi>=2017.4.17 in /usr/local/lib/python3.11/dist-packages (from requests<3,>=2->gigachain) (2025.1.31)\n",
            "Requirement already satisfied: greenlet>=1 in /usr/local/lib/python3.11/dist-packages (from SQLAlchemy<3,>=1.4->gigachain) (3.1.1)\n",
            "Requirement already satisfied: anyio in /usr/local/lib/python3.11/dist-packages (from httpx<1->gigachat<0.2.0,>=0.1.35->gigachain) (4.9.0)\n",
            "Requirement already satisfied: httpcore==1.* in /usr/local/lib/python3.11/dist-packages (from httpx<1->gigachat<0.2.0,>=0.1.35->gigachain) (1.0.7)\n",
            "Requirement already satisfied: h11<0.15,>=0.13 in /usr/local/lib/python3.11/dist-packages (from httpcore==1.*->httpx<1->gigachat<0.2.0,>=0.1.35->gigachain) (0.14.0)\n",
            "Requirement already satisfied: jsonpointer>=1.9 in /usr/local/lib/python3.11/dist-packages (from jsonpatch<2.0,>=1.33->gigachain-core<0.3.0,>=0.2.38->gigachain) (3.0.0)\n",
            "Requirement already satisfied: backoff>=1.10.0 in /usr/local/lib/python3.11/dist-packages (from langfuse<3.0.0,>=2.41.0->gigachain-core<0.3.0,>=0.2.38->gigachain) (2.2.1)\n",
            "Requirement already satisfied: wrapt<2.0,>=1.14 in /usr/local/lib/python3.11/dist-packages (from langfuse<3.0.0,>=2.41.0->gigachain-core<0.3.0,>=0.2.38->gigachain) (1.17.2)\n",
            "Requirement already satisfied: sniffio>=1.1 in /usr/local/lib/python3.11/dist-packages (from anyio->httpx<1->gigachat<0.2.0,>=0.1.35->gigachain) (1.3.1)\n",
            "Using cached numpy-1.26.4-cp311-cp311-manylinux_2_17_x86_64.manylinux2014_x86_64.whl (18.3 MB)\n",
            "Installing collected packages: numpy\n",
            "  Attempting uninstall: numpy\n",
            "    Found existing installation: numpy 2.2.4\n",
            "    Uninstalling numpy-2.2.4:\n",
            "      Successfully uninstalled numpy-2.2.4\n",
            "Successfully installed numpy-1.26.4\n",
            "Requirement already satisfied: gigachain-community in /usr/local/lib/python3.11/dist-packages (0.2.16.post3)\n",
            "Requirement already satisfied: PyYAML>=5.3 in /usr/local/lib/python3.11/dist-packages (from gigachain-community) (6.0.2)\n",
            "Requirement already satisfied: SQLAlchemy<3,>=1.4 in /usr/local/lib/python3.11/dist-packages (from gigachain-community) (2.0.40)\n",
            "Requirement already satisfied: aiohttp<4.0.0,>=3.8.3 in /usr/local/lib/python3.11/dist-packages (from gigachain-community) (3.11.15)\n",
            "Requirement already satisfied: dataclasses-json<0.7,>=0.5.7 in /usr/local/lib/python3.11/dist-packages (from gigachain-community) (0.6.7)\n",
            "Requirement already satisfied: gigachain<0.3.0,>=0.2.16 in /usr/local/lib/python3.11/dist-packages (from gigachain-community) (0.2.16)\n",
            "Requirement already satisfied: gigachain-core<0.3.0,>=0.2.38post2 in /usr/local/lib/python3.11/dist-packages (from gigachain-community) (0.2.38.post2)\n",
            "Requirement already satisfied: gigachat>=0.1.35 in /usr/local/lib/python3.11/dist-packages (from gigachain-community) (0.1.39.post1)\n",
            "Requirement already satisfied: langsmith<0.2.0,>=0.1.112 in /usr/local/lib/python3.11/dist-packages (from gigachain-community) (0.1.147)\n",
            "Requirement already satisfied: numpy<2,>=1 in /usr/local/lib/python3.11/dist-packages (from gigachain-community) (1.26.4)\n",
            "Requirement already satisfied: requests<3,>=2 in /usr/local/lib/python3.11/dist-packages (from gigachain-community) (2.32.3)\n",
            "Requirement already satisfied: tenacity!=8.4.0,<9.0.0,>=8.1.0 in /usr/local/lib/python3.11/dist-packages (from gigachain-community) (8.5.0)\n",
            "Requirement already satisfied: aiohappyeyeballs>=2.3.0 in /usr/local/lib/python3.11/dist-packages (from aiohttp<4.0.0,>=3.8.3->gigachain-community) (2.6.1)\n",
            "Requirement already satisfied: aiosignal>=1.1.2 in /usr/local/lib/python3.11/dist-packages (from aiohttp<4.0.0,>=3.8.3->gigachain-community) (1.3.2)\n",
            "Requirement already satisfied: attrs>=17.3.0 in /usr/local/lib/python3.11/dist-packages (from aiohttp<4.0.0,>=3.8.3->gigachain-community) (25.3.0)\n",
            "Requirement already satisfied: frozenlist>=1.1.1 in /usr/local/lib/python3.11/dist-packages (from aiohttp<4.0.0,>=3.8.3->gigachain-community) (1.5.0)\n",
            "Requirement already satisfied: multidict<7.0,>=4.5 in /usr/local/lib/python3.11/dist-packages (from aiohttp<4.0.0,>=3.8.3->gigachain-community) (6.2.0)\n",
            "Requirement already satisfied: propcache>=0.2.0 in /usr/local/lib/python3.11/dist-packages (from aiohttp<4.0.0,>=3.8.3->gigachain-community) (0.3.1)\n",
            "Requirement already satisfied: yarl<2.0,>=1.17.0 in /usr/local/lib/python3.11/dist-packages (from aiohttp<4.0.0,>=3.8.3->gigachain-community) (1.18.3)\n",
            "Requirement already satisfied: marshmallow<4.0.0,>=3.18.0 in /usr/local/lib/python3.11/dist-packages (from dataclasses-json<0.7,>=0.5.7->gigachain-community) (3.26.1)\n",
            "Requirement already satisfied: typing-inspect<1,>=0.4.0 in /usr/local/lib/python3.11/dist-packages (from dataclasses-json<0.7,>=0.5.7->gigachain-community) (0.9.0)\n",
            "Requirement already satisfied: gigachain-text-splitters<0.3.0,>=0.2.0 in /usr/local/lib/python3.11/dist-packages (from gigachain<0.3.0,>=0.2.16->gigachain-community) (0.2.4)\n",
            "Requirement already satisfied: pydantic<3,>=1 in /usr/local/lib/python3.11/dist-packages (from gigachain<0.3.0,>=0.2.16->gigachain-community) (2.11.2)\n",
            "Requirement already satisfied: jsonpatch<2.0,>=1.33 in /usr/local/lib/python3.11/dist-packages (from gigachain-core<0.3.0,>=0.2.38post2->gigachain-community) (1.33)\n",
            "Requirement already satisfied: langfuse<3.0.0,>=2.41.0 in /usr/local/lib/python3.11/dist-packages (from gigachain-core<0.3.0,>=0.2.38post2->gigachain-community) (2.60.2)\n",
            "Requirement already satisfied: packaging<25,>=23.2 in /usr/local/lib/python3.11/dist-packages (from gigachain-core<0.3.0,>=0.2.38post2->gigachain-community) (24.2)\n",
            "Requirement already satisfied: typing-extensions>=4.7 in /usr/local/lib/python3.11/dist-packages (from gigachain-core<0.3.0,>=0.2.38post2->gigachain-community) (4.13.1)\n",
            "Requirement already satisfied: httpx<1 in /usr/local/lib/python3.11/dist-packages (from gigachat>=0.1.35->gigachain-community) (0.28.1)\n",
            "Requirement already satisfied: orjson<4.0.0,>=3.9.14 in /usr/local/lib/python3.11/dist-packages (from langsmith<0.2.0,>=0.1.112->gigachain-community) (3.10.16)\n",
            "Requirement already satisfied: requests-toolbelt<2.0.0,>=1.0.0 in /usr/local/lib/python3.11/dist-packages (from langsmith<0.2.0,>=0.1.112->gigachain-community) (1.0.0)\n",
            "Requirement already satisfied: charset-normalizer<4,>=2 in /usr/local/lib/python3.11/dist-packages (from requests<3,>=2->gigachain-community) (3.4.1)\n",
            "Requirement already satisfied: idna<4,>=2.5 in /usr/local/lib/python3.11/dist-packages (from requests<3,>=2->gigachain-community) (3.10)\n",
            "Requirement already satisfied: urllib3<3,>=1.21.1 in /usr/local/lib/python3.11/dist-packages (from requests<3,>=2->gigachain-community) (2.3.0)\n",
            "Requirement already satisfied: certifi>=2017.4.17 in /usr/local/lib/python3.11/dist-packages (from requests<3,>=2->gigachain-community) (2025.1.31)\n",
            "Requirement already satisfied: greenlet>=1 in /usr/local/lib/python3.11/dist-packages (from SQLAlchemy<3,>=1.4->gigachain-community) (3.1.1)\n",
            "Requirement already satisfied: anyio in /usr/local/lib/python3.11/dist-packages (from httpx<1->gigachat>=0.1.35->gigachain-community) (4.9.0)\n",
            "Requirement already satisfied: httpcore==1.* in /usr/local/lib/python3.11/dist-packages (from httpx<1->gigachat>=0.1.35->gigachain-community) (1.0.7)\n",
            "Requirement already satisfied: h11<0.15,>=0.13 in /usr/local/lib/python3.11/dist-packages (from httpcore==1.*->httpx<1->gigachat>=0.1.35->gigachain-community) (0.14.0)\n",
            "Requirement already satisfied: jsonpointer>=1.9 in /usr/local/lib/python3.11/dist-packages (from jsonpatch<2.0,>=1.33->gigachain-core<0.3.0,>=0.2.38post2->gigachain-community) (3.0.0)\n",
            "Requirement already satisfied: backoff>=1.10.0 in /usr/local/lib/python3.11/dist-packages (from langfuse<3.0.0,>=2.41.0->gigachain-core<0.3.0,>=0.2.38post2->gigachain-community) (2.2.1)\n",
            "Requirement already satisfied: wrapt<2.0,>=1.14 in /usr/local/lib/python3.11/dist-packages (from langfuse<3.0.0,>=2.41.0->gigachain-core<0.3.0,>=0.2.38post2->gigachain-community) (1.17.2)\n",
            "Requirement already satisfied: annotated-types>=0.6.0 in /usr/local/lib/python3.11/dist-packages (from pydantic<3,>=1->gigachain<0.3.0,>=0.2.16->gigachain-community) (0.7.0)\n",
            "Requirement already satisfied: pydantic-core==2.33.1 in /usr/local/lib/python3.11/dist-packages (from pydantic<3,>=1->gigachain<0.3.0,>=0.2.16->gigachain-community) (2.33.1)\n",
            "Requirement already satisfied: typing-inspection>=0.4.0 in /usr/local/lib/python3.11/dist-packages (from pydantic<3,>=1->gigachain<0.3.0,>=0.2.16->gigachain-community) (0.4.0)\n",
            "Requirement already satisfied: mypy-extensions>=0.3.0 in /usr/local/lib/python3.11/dist-packages (from typing-inspect<1,>=0.4.0->dataclasses-json<0.7,>=0.5.7->gigachain-community) (1.0.0)\n",
            "Requirement already satisfied: sniffio>=1.1 in /usr/local/lib/python3.11/dist-packages (from anyio->httpx<1->gigachat>=0.1.35->gigachain-community) (1.3.1)\n",
            "Requirement already satisfied: unstructured[all-docs] in /usr/local/lib/python3.11/dist-packages (0.17.2)\n",
            "Requirement already satisfied: chardet in /usr/local/lib/python3.11/dist-packages (from unstructured[all-docs]) (5.2.0)\n",
            "Requirement already satisfied: filetype in /usr/local/lib/python3.11/dist-packages (from unstructured[all-docs]) (1.2.0)\n",
            "Requirement already satisfied: python-magic in /usr/local/lib/python3.11/dist-packages (from unstructured[all-docs]) (0.4.27)\n",
            "Requirement already satisfied: lxml in /usr/local/lib/python3.11/dist-packages (from unstructured[all-docs]) (5.3.1)\n",
            "Requirement already satisfied: nltk in /usr/local/lib/python3.11/dist-packages (from unstructured[all-docs]) (3.9.1)\n",
            "Requirement already satisfied: requests in /usr/local/lib/python3.11/dist-packages (from unstructured[all-docs]) (2.32.3)\n",
            "Requirement already satisfied: beautifulsoup4 in /usr/local/lib/python3.11/dist-packages (from unstructured[all-docs]) (4.13.3)\n",
            "Requirement already satisfied: emoji in /usr/local/lib/python3.11/dist-packages (from unstructured[all-docs]) (2.14.1)\n",
            "Requirement already satisfied: dataclasses-json in /usr/local/lib/python3.11/dist-packages (from unstructured[all-docs]) (0.6.7)\n",
            "Requirement already satisfied: python-iso639 in /usr/local/lib/python3.11/dist-packages (from unstructured[all-docs]) (2025.2.18)\n",
            "Requirement already satisfied: langdetect in /usr/local/lib/python3.11/dist-packages (from unstructured[all-docs]) (1.0.9)\n",
            "Requirement already satisfied: numpy in /usr/local/lib/python3.11/dist-packages (from unstructured[all-docs]) (1.26.4)\n",
            "Requirement already satisfied: rapidfuzz in /usr/local/lib/python3.11/dist-packages (from unstructured[all-docs]) (3.13.0)\n",
            "Requirement already satisfied: backoff in /usr/local/lib/python3.11/dist-packages (from unstructured[all-docs]) (2.2.1)\n",
            "Requirement already satisfied: typing-extensions in /usr/local/lib/python3.11/dist-packages (from unstructured[all-docs]) (4.13.1)\n",
            "Requirement already satisfied: unstructured-client in /usr/local/lib/python3.11/dist-packages (from unstructured[all-docs]) (0.32.3)\n",
            "Requirement already satisfied: wrapt in /usr/local/lib/python3.11/dist-packages (from unstructured[all-docs]) (1.17.2)\n",
            "Requirement already satisfied: tqdm in /usr/local/lib/python3.11/dist-packages (from unstructured[all-docs]) (4.67.1)\n",
            "Requirement already satisfied: psutil in /usr/local/lib/python3.11/dist-packages (from unstructured[all-docs]) (5.9.5)\n",
            "Requirement already satisfied: python-oxmsg in /usr/local/lib/python3.11/dist-packages (from unstructured[all-docs]) (0.0.2)\n",
            "Requirement already satisfied: html5lib in /usr/local/lib/python3.11/dist-packages (from unstructured[all-docs]) (1.1)\n",
            "Requirement already satisfied: onnxruntime>=1.19.0 in /usr/local/lib/python3.11/dist-packages (from unstructured[all-docs]) (1.21.0)\n",
            "Requirement already satisfied: python-pptx>=1.0.1 in /usr/local/lib/python3.11/dist-packages (from unstructured[all-docs]) (1.0.2)\n",
            "Requirement already satisfied: effdet in /usr/local/lib/python3.11/dist-packages (from unstructured[all-docs]) (0.4.1)\n",
            "Requirement already satisfied: pypandoc in /usr/local/lib/python3.11/dist-packages (from unstructured[all-docs]) (1.15)\n",
            "Requirement already satisfied: pikepdf in /usr/local/lib/python3.11/dist-packages (from unstructured[all-docs]) (9.7.0)\n",
            "Requirement already satisfied: google-cloud-vision in /usr/local/lib/python3.11/dist-packages (from unstructured[all-docs]) (3.10.1)\n",
            "Requirement already satisfied: unstructured.pytesseract>=0.3.12 in /usr/local/lib/python3.11/dist-packages (from unstructured[all-docs]) (0.3.15)\n",
            "Requirement already satisfied: pdfminer.six in /usr/local/lib/python3.11/dist-packages (from unstructured[all-docs]) (20250327)\n",
            "Requirement already satisfied: unstructured-inference>=0.8.10 in /usr/local/lib/python3.11/dist-packages (from unstructured[all-docs]) (0.8.10)\n",
            "Requirement already satisfied: xlrd in /usr/local/lib/python3.11/dist-packages (from unstructured[all-docs]) (2.0.1)\n",
            "Requirement already satisfied: networkx in /usr/local/lib/python3.11/dist-packages (from unstructured[all-docs]) (3.4.2)\n",
            "Requirement already satisfied: pandas in /usr/local/lib/python3.11/dist-packages (from unstructured[all-docs]) (2.2.2)\n",
            "Requirement already satisfied: pdf2image in /usr/local/lib/python3.11/dist-packages (from unstructured[all-docs]) (1.17.0)\n",
            "Requirement already satisfied: openpyxl in /usr/local/lib/python3.11/dist-packages (from unstructured[all-docs]) (3.1.5)\n",
            "Requirement already satisfied: python-docx>=1.1.2 in /usr/local/lib/python3.11/dist-packages (from unstructured[all-docs]) (1.1.2)\n",
            "Requirement already satisfied: pypdf in /usr/local/lib/python3.11/dist-packages (from unstructured[all-docs]) (5.4.0)\n",
            "Requirement already satisfied: onnx>=1.17.0 in /usr/local/lib/python3.11/dist-packages (from unstructured[all-docs]) (1.17.0)\n",
            "Requirement already satisfied: markdown in /usr/local/lib/python3.11/dist-packages (from unstructured[all-docs]) (3.7)\n",
            "Requirement already satisfied: pi-heif in /usr/local/lib/python3.11/dist-packages (from unstructured[all-docs]) (0.22.0)\n",
            "Requirement already satisfied: protobuf>=3.20.2 in /usr/local/lib/python3.11/dist-packages (from onnx>=1.17.0->unstructured[all-docs]) (5.29.4)\n",
            "Requirement already satisfied: coloredlogs in /usr/local/lib/python3.11/dist-packages (from onnxruntime>=1.19.0->unstructured[all-docs]) (15.0.1)\n",
            "Requirement already satisfied: flatbuffers in /usr/local/lib/python3.11/dist-packages (from onnxruntime>=1.19.0->unstructured[all-docs]) (25.2.10)\n",
            "Requirement already satisfied: packaging in /usr/local/lib/python3.11/dist-packages (from onnxruntime>=1.19.0->unstructured[all-docs]) (24.2)\n",
            "Requirement already satisfied: sympy in /usr/local/lib/python3.11/dist-packages (from onnxruntime>=1.19.0->unstructured[all-docs]) (1.13.1)\n",
            "Requirement already satisfied: Pillow>=3.3.2 in /usr/local/lib/python3.11/dist-packages (from python-pptx>=1.0.1->unstructured[all-docs]) (11.1.0)\n",
            "Requirement already satisfied: XlsxWriter>=0.5.7 in /usr/local/lib/python3.11/dist-packages (from python-pptx>=1.0.1->unstructured[all-docs]) (3.2.2)\n",
            "Requirement already satisfied: python-multipart in /usr/local/lib/python3.11/dist-packages (from unstructured-inference>=0.8.10->unstructured[all-docs]) (0.0.20)\n",
            "Requirement already satisfied: huggingface-hub in /usr/local/lib/python3.11/dist-packages (from unstructured-inference>=0.8.10->unstructured[all-docs]) (0.30.1)\n",
            "Requirement already satisfied: opencv-python!=4.7.0.68 in /usr/local/lib/python3.11/dist-packages (from unstructured-inference>=0.8.10->unstructured[all-docs]) (4.11.0.86)\n",
            "Requirement already satisfied: matplotlib in /usr/local/lib/python3.11/dist-packages (from unstructured-inference>=0.8.10->unstructured[all-docs]) (3.10.0)\n",
            "Requirement already satisfied: torch in /usr/local/lib/python3.11/dist-packages (from unstructured-inference>=0.8.10->unstructured[all-docs]) (2.6.0+cu124)\n",
            "Requirement already satisfied: timm in /usr/local/lib/python3.11/dist-packages (from unstructured-inference>=0.8.10->unstructured[all-docs]) (1.0.15)\n",
            "Requirement already satisfied: transformers>=4.25.1 in /usr/local/lib/python3.11/dist-packages (from unstructured-inference>=0.8.10->unstructured[all-docs]) (4.50.3)\n",
            "Requirement already satisfied: scipy in /usr/local/lib/python3.11/dist-packages (from unstructured-inference>=0.8.10->unstructured[all-docs]) (1.14.1)\n",
            "Requirement already satisfied: pypdfium2 in /usr/local/lib/python3.11/dist-packages (from unstructured-inference>=0.8.10->unstructured[all-docs]) (4.30.1)\n",
            "Requirement already satisfied: soupsieve>1.2 in /usr/local/lib/python3.11/dist-packages (from beautifulsoup4->unstructured[all-docs]) (2.6)\n",
            "Requirement already satisfied: marshmallow<4.0.0,>=3.18.0 in /usr/local/lib/python3.11/dist-packages (from dataclasses-json->unstructured[all-docs]) (3.26.1)\n",
            "Requirement already satisfied: typing-inspect<1,>=0.4.0 in /usr/local/lib/python3.11/dist-packages (from dataclasses-json->unstructured[all-docs]) (0.9.0)\n",
            "Requirement already satisfied: torchvision in /usr/local/lib/python3.11/dist-packages (from effdet->unstructured[all-docs]) (0.21.0+cu124)\n",
            "Requirement already satisfied: pycocotools>=2.0.2 in /usr/local/lib/python3.11/dist-packages (from effdet->unstructured[all-docs]) (2.0.8)\n",
            "Requirement already satisfied: omegaconf>=2.0 in /usr/local/lib/python3.11/dist-packages (from effdet->unstructured[all-docs]) (2.3.0)\n",
            "Requirement already satisfied: google-api-core!=2.0.*,!=2.1.*,!=2.10.*,!=2.2.*,!=2.3.*,!=2.4.*,!=2.5.*,!=2.6.*,!=2.7.*,!=2.8.*,!=2.9.*,<3.0.0,>=1.34.1 in /usr/local/lib/python3.11/dist-packages (from google-api-core[grpc]!=2.0.*,!=2.1.*,!=2.10.*,!=2.2.*,!=2.3.*,!=2.4.*,!=2.5.*,!=2.6.*,!=2.7.*,!=2.8.*,!=2.9.*,<3.0.0,>=1.34.1->google-cloud-vision->unstructured[all-docs]) (2.24.2)\n",
            "Requirement already satisfied: google-auth!=2.24.0,!=2.25.0,<3.0.0,>=2.14.1 in /usr/local/lib/python3.11/dist-packages (from google-cloud-vision->unstructured[all-docs]) (2.38.0)\n",
            "Requirement already satisfied: proto-plus<2.0.0,>=1.22.3 in /usr/local/lib/python3.11/dist-packages (from google-cloud-vision->unstructured[all-docs]) (1.26.1)\n",
            "Requirement already satisfied: six>=1.9 in /usr/local/lib/python3.11/dist-packages (from html5lib->unstructured[all-docs]) (1.17.0)\n",
            "Requirement already satisfied: webencodings in /usr/local/lib/python3.11/dist-packages (from html5lib->unstructured[all-docs]) (0.5.1)\n",
            "Requirement already satisfied: click in /usr/local/lib/python3.11/dist-packages (from nltk->unstructured[all-docs]) (8.1.8)\n",
            "Requirement already satisfied: joblib in /usr/local/lib/python3.11/dist-packages (from nltk->unstructured[all-docs]) (1.4.2)\n",
            "Requirement already satisfied: regex>=2021.8.3 in /usr/local/lib/python3.11/dist-packages (from nltk->unstructured[all-docs]) (2024.11.6)\n",
            "Requirement already satisfied: et-xmlfile in /usr/local/lib/python3.11/dist-packages (from openpyxl->unstructured[all-docs]) (2.0.0)\n",
            "Requirement already satisfied: python-dateutil>=2.8.2 in /usr/local/lib/python3.11/dist-packages (from pandas->unstructured[all-docs]) (2.8.2)\n",
            "Requirement already satisfied: pytz>=2020.1 in /usr/local/lib/python3.11/dist-packages (from pandas->unstructured[all-docs]) (2025.2)\n",
            "Requirement already satisfied: tzdata>=2022.7 in /usr/local/lib/python3.11/dist-packages (from pandas->unstructured[all-docs]) (2025.2)\n",
            "Requirement already satisfied: charset-normalizer>=2.0.0 in /usr/local/lib/python3.11/dist-packages (from pdfminer.six->unstructured[all-docs]) (3.4.1)\n",
            "Requirement already satisfied: cryptography>=36.0.0 in /usr/local/lib/python3.11/dist-packages (from pdfminer.six->unstructured[all-docs]) (43.0.3)\n",
            "Requirement already satisfied: Deprecated in /usr/local/lib/python3.11/dist-packages (from pikepdf->unstructured[all-docs]) (1.2.18)\n",
            "Requirement already satisfied: olefile in /usr/local/lib/python3.11/dist-packages (from python-oxmsg->unstructured[all-docs]) (0.47)\n",
            "Requirement already satisfied: idna<4,>=2.5 in /usr/local/lib/python3.11/dist-packages (from requests->unstructured[all-docs]) (3.10)\n",
            "Requirement already satisfied: urllib3<3,>=1.21.1 in /usr/local/lib/python3.11/dist-packages (from requests->unstructured[all-docs]) (2.3.0)\n",
            "Requirement already satisfied: certifi>=2017.4.17 in /usr/local/lib/python3.11/dist-packages (from requests->unstructured[all-docs]) (2025.1.31)\n",
            "Requirement already satisfied: aiofiles>=24.1.0 in /usr/local/lib/python3.11/dist-packages (from unstructured-client->unstructured[all-docs]) (24.1.0)\n",
            "Requirement already satisfied: eval-type-backport>=0.2.0 in /usr/local/lib/python3.11/dist-packages (from unstructured-client->unstructured[all-docs]) (0.2.2)\n",
            "Requirement already satisfied: httpx>=0.27.0 in /usr/local/lib/python3.11/dist-packages (from unstructured-client->unstructured[all-docs]) (0.28.1)\n",
            "Requirement already satisfied: nest-asyncio>=1.6.0 in /usr/local/lib/python3.11/dist-packages (from unstructured-client->unstructured[all-docs]) (1.6.0)\n",
            "Requirement already satisfied: pydantic>=2.10.3 in /usr/local/lib/python3.11/dist-packages (from unstructured-client->unstructured[all-docs]) (2.11.2)\n",
            "Requirement already satisfied: requests-toolbelt>=1.0.0 in /usr/local/lib/python3.11/dist-packages (from unstructured-client->unstructured[all-docs]) (1.0.0)\n",
            "Requirement already satisfied: typing-inspection>=0.4.0 in /usr/local/lib/python3.11/dist-packages (from unstructured-client->unstructured[all-docs]) (0.4.0)\n",
            "Requirement already satisfied: cffi>=1.12 in /usr/local/lib/python3.11/dist-packages (from cryptography>=36.0.0->pdfminer.six->unstructured[all-docs]) (1.17.1)\n",
            "Requirement already satisfied: googleapis-common-protos<2.0.0,>=1.56.2 in /usr/local/lib/python3.11/dist-packages (from google-api-core!=2.0.*,!=2.1.*,!=2.10.*,!=2.2.*,!=2.3.*,!=2.4.*,!=2.5.*,!=2.6.*,!=2.7.*,!=2.8.*,!=2.9.*,<3.0.0,>=1.34.1->google-api-core[grpc]!=2.0.*,!=2.1.*,!=2.10.*,!=2.2.*,!=2.3.*,!=2.4.*,!=2.5.*,!=2.6.*,!=2.7.*,!=2.8.*,!=2.9.*,<3.0.0,>=1.34.1->google-cloud-vision->unstructured[all-docs]) (1.69.2)\n",
            "Requirement already satisfied: grpcio<2.0dev,>=1.33.2 in /usr/local/lib/python3.11/dist-packages (from google-api-core[grpc]!=2.0.*,!=2.1.*,!=2.10.*,!=2.2.*,!=2.3.*,!=2.4.*,!=2.5.*,!=2.6.*,!=2.7.*,!=2.8.*,!=2.9.*,<3.0.0,>=1.34.1->google-cloud-vision->unstructured[all-docs]) (1.71.0)\n",
            "Requirement already satisfied: grpcio-status<2.0.dev0,>=1.33.2 in /usr/local/lib/python3.11/dist-packages (from google-api-core[grpc]!=2.0.*,!=2.1.*,!=2.10.*,!=2.2.*,!=2.3.*,!=2.4.*,!=2.5.*,!=2.6.*,!=2.7.*,!=2.8.*,!=2.9.*,<3.0.0,>=1.34.1->google-cloud-vision->unstructured[all-docs]) (1.71.0)\n",
            "Requirement already satisfied: cachetools<6.0,>=2.0.0 in /usr/local/lib/python3.11/dist-packages (from google-auth!=2.24.0,!=2.25.0,<3.0.0,>=2.14.1->google-cloud-vision->unstructured[all-docs]) (5.5.2)\n",
            "Requirement already satisfied: pyasn1-modules>=0.2.1 in /usr/local/lib/python3.11/dist-packages (from google-auth!=2.24.0,!=2.25.0,<3.0.0,>=2.14.1->google-cloud-vision->unstructured[all-docs]) (0.4.2)\n",
            "Requirement already satisfied: rsa<5,>=3.1.4 in /usr/local/lib/python3.11/dist-packages (from google-auth!=2.24.0,!=2.25.0,<3.0.0,>=2.14.1->google-cloud-vision->unstructured[all-docs]) (4.9)\n",
            "Requirement already satisfied: anyio in /usr/local/lib/python3.11/dist-packages (from httpx>=0.27.0->unstructured-client->unstructured[all-docs]) (4.9.0)\n",
            "Requirement already satisfied: httpcore==1.* in /usr/local/lib/python3.11/dist-packages (from httpx>=0.27.0->unstructured-client->unstructured[all-docs]) (1.0.7)\n",
            "Requirement already satisfied: h11<0.15,>=0.13 in /usr/local/lib/python3.11/dist-packages (from httpcore==1.*->httpx>=0.27.0->unstructured-client->unstructured[all-docs]) (0.14.0)\n",
            "Requirement already satisfied: antlr4-python3-runtime==4.9.* in /usr/local/lib/python3.11/dist-packages (from omegaconf>=2.0->effdet->unstructured[all-docs]) (4.9.3)\n",
            "Requirement already satisfied: PyYAML>=5.1.0 in /usr/local/lib/python3.11/dist-packages (from omegaconf>=2.0->effdet->unstructured[all-docs]) (6.0.2)\n",
            "Requirement already satisfied: contourpy>=1.0.1 in /usr/local/lib/python3.11/dist-packages (from matplotlib->unstructured-inference>=0.8.10->unstructured[all-docs]) (1.3.1)\n",
            "Requirement already satisfied: cycler>=0.10 in /usr/local/lib/python3.11/dist-packages (from matplotlib->unstructured-inference>=0.8.10->unstructured[all-docs]) (0.12.1)\n",
            "Requirement already satisfied: fonttools>=4.22.0 in /usr/local/lib/python3.11/dist-packages (from matplotlib->unstructured-inference>=0.8.10->unstructured[all-docs]) (4.57.0)\n",
            "Requirement already satisfied: kiwisolver>=1.3.1 in /usr/local/lib/python3.11/dist-packages (from matplotlib->unstructured-inference>=0.8.10->unstructured[all-docs]) (1.4.8)\n",
            "Requirement already satisfied: pyparsing>=2.3.1 in /usr/local/lib/python3.11/dist-packages (from matplotlib->unstructured-inference>=0.8.10->unstructured[all-docs]) (3.2.3)\n",
            "Requirement already satisfied: annotated-types>=0.6.0 in /usr/local/lib/python3.11/dist-packages (from pydantic>=2.10.3->unstructured-client->unstructured[all-docs]) (0.7.0)\n",
            "Requirement already satisfied: pydantic-core==2.33.1 in /usr/local/lib/python3.11/dist-packages (from pydantic>=2.10.3->unstructured-client->unstructured[all-docs]) (2.33.1)\n",
            "Requirement already satisfied: safetensors in /usr/local/lib/python3.11/dist-packages (from timm->unstructured-inference>=0.8.10->unstructured[all-docs]) (0.5.3)\n",
            "Requirement already satisfied: filelock in /usr/local/lib/python3.11/dist-packages (from torch->unstructured-inference>=0.8.10->unstructured[all-docs]) (3.18.0)\n",
            "Requirement already satisfied: jinja2 in /usr/local/lib/python3.11/dist-packages (from torch->unstructured-inference>=0.8.10->unstructured[all-docs]) (3.1.6)\n",
            "Requirement already satisfied: fsspec in /usr/local/lib/python3.11/dist-packages (from torch->unstructured-inference>=0.8.10->unstructured[all-docs]) (2025.3.2)\n",
            "Requirement already satisfied: nvidia-cuda-nvrtc-cu12==12.4.127 in /usr/local/lib/python3.11/dist-packages (from torch->unstructured-inference>=0.8.10->unstructured[all-docs]) (12.4.127)\n",
            "Requirement already satisfied: nvidia-cuda-runtime-cu12==12.4.127 in /usr/local/lib/python3.11/dist-packages (from torch->unstructured-inference>=0.8.10->unstructured[all-docs]) (12.4.127)\n",
            "Requirement already satisfied: nvidia-cuda-cupti-cu12==12.4.127 in /usr/local/lib/python3.11/dist-packages (from torch->unstructured-inference>=0.8.10->unstructured[all-docs]) (12.4.127)\n",
            "Requirement already satisfied: nvidia-cudnn-cu12==9.1.0.70 in /usr/local/lib/python3.11/dist-packages (from torch->unstructured-inference>=0.8.10->unstructured[all-docs]) (9.1.0.70)\n",
            "Requirement already satisfied: nvidia-cublas-cu12==12.4.5.8 in /usr/local/lib/python3.11/dist-packages (from torch->unstructured-inference>=0.8.10->unstructured[all-docs]) (12.4.5.8)\n",
            "Requirement already satisfied: nvidia-cufft-cu12==11.2.1.3 in /usr/local/lib/python3.11/dist-packages (from torch->unstructured-inference>=0.8.10->unstructured[all-docs]) (11.2.1.3)\n",
            "Requirement already satisfied: nvidia-curand-cu12==10.3.5.147 in /usr/local/lib/python3.11/dist-packages (from torch->unstructured-inference>=0.8.10->unstructured[all-docs]) (10.3.5.147)\n",
            "Requirement already satisfied: nvidia-cusolver-cu12==11.6.1.9 in /usr/local/lib/python3.11/dist-packages (from torch->unstructured-inference>=0.8.10->unstructured[all-docs]) (11.6.1.9)\n",
            "Requirement already satisfied: nvidia-cusparse-cu12==12.3.1.170 in /usr/local/lib/python3.11/dist-packages (from torch->unstructured-inference>=0.8.10->unstructured[all-docs]) (12.3.1.170)\n",
            "Requirement already satisfied: nvidia-cusparselt-cu12==0.6.2 in /usr/local/lib/python3.11/dist-packages (from torch->unstructured-inference>=0.8.10->unstructured[all-docs]) (0.6.2)\n",
            "Requirement already satisfied: nvidia-nccl-cu12==2.21.5 in /usr/local/lib/python3.11/dist-packages (from torch->unstructured-inference>=0.8.10->unstructured[all-docs]) (2.21.5)\n",
            "Requirement already satisfied: nvidia-nvtx-cu12==12.4.127 in /usr/local/lib/python3.11/dist-packages (from torch->unstructured-inference>=0.8.10->unstructured[all-docs]) (12.4.127)\n",
            "Requirement already satisfied: nvidia-nvjitlink-cu12==12.4.127 in /usr/local/lib/python3.11/dist-packages (from torch->unstructured-inference>=0.8.10->unstructured[all-docs]) (12.4.127)\n",
            "Requirement already satisfied: triton==3.2.0 in /usr/local/lib/python3.11/dist-packages (from torch->unstructured-inference>=0.8.10->unstructured[all-docs]) (3.2.0)\n",
            "Requirement already satisfied: mpmath<1.4,>=1.1.0 in /usr/local/lib/python3.11/dist-packages (from sympy->onnxruntime>=1.19.0->unstructured[all-docs]) (1.3.0)\n",
            "Requirement already satisfied: tokenizers<0.22,>=0.21 in /usr/local/lib/python3.11/dist-packages (from transformers>=4.25.1->unstructured-inference>=0.8.10->unstructured[all-docs]) (0.21.1)\n",
            "Requirement already satisfied: mypy-extensions>=0.3.0 in /usr/local/lib/python3.11/dist-packages (from typing-inspect<1,>=0.4.0->dataclasses-json->unstructured[all-docs]) (1.0.0)\n",
            "Requirement already satisfied: humanfriendly>=9.1 in /usr/local/lib/python3.11/dist-packages (from coloredlogs->onnxruntime>=1.19.0->unstructured[all-docs]) (10.0)\n",
            "Requirement already satisfied: pycparser in /usr/local/lib/python3.11/dist-packages (from cffi>=1.12->cryptography>=36.0.0->pdfminer.six->unstructured[all-docs]) (2.22)\n",
            "Requirement already satisfied: pyasn1<0.7.0,>=0.6.1 in /usr/local/lib/python3.11/dist-packages (from pyasn1-modules>=0.2.1->google-auth!=2.24.0,!=2.25.0,<3.0.0,>=2.14.1->google-cloud-vision->unstructured[all-docs]) (0.6.1)\n",
            "Requirement already satisfied: sniffio>=1.1 in /usr/local/lib/python3.11/dist-packages (from anyio->httpx>=0.27.0->unstructured-client->unstructured[all-docs]) (1.3.1)\n",
            "Requirement already satisfied: MarkupSafe>=2.0 in /usr/local/lib/python3.11/dist-packages (from jinja2->torch->unstructured-inference>=0.8.10->unstructured[all-docs]) (3.0.2)\n",
            "Requirement already satisfied: faiss-cpu in /usr/local/lib/python3.11/dist-packages (1.10.0)\n",
            "Requirement already satisfied: numpy<3.0,>=1.25.0 in /usr/local/lib/python3.11/dist-packages (from faiss-cpu) (1.26.4)\n",
            "Requirement already satisfied: packaging in /usr/local/lib/python3.11/dist-packages (from faiss-cpu) (24.2)\n",
            "Requirement already satisfied: sentence-transformers in /usr/local/lib/python3.11/dist-packages (3.4.1)\n",
            "Requirement already satisfied: transformers<5.0.0,>=4.41.0 in /usr/local/lib/python3.11/dist-packages (from sentence-transformers) (4.50.3)\n",
            "Requirement already satisfied: tqdm in /usr/local/lib/python3.11/dist-packages (from sentence-transformers) (4.67.1)\n",
            "Requirement already satisfied: torch>=1.11.0 in /usr/local/lib/python3.11/dist-packages (from sentence-transformers) (2.6.0+cu124)\n",
            "Requirement already satisfied: scikit-learn in /usr/local/lib/python3.11/dist-packages (from sentence-transformers) (1.6.1)\n",
            "Requirement already satisfied: scipy in /usr/local/lib/python3.11/dist-packages (from sentence-transformers) (1.14.1)\n",
            "Requirement already satisfied: huggingface-hub>=0.20.0 in /usr/local/lib/python3.11/dist-packages (from sentence-transformers) (0.30.1)\n",
            "Requirement already satisfied: Pillow in /usr/local/lib/python3.11/dist-packages (from sentence-transformers) (11.1.0)\n",
            "Requirement already satisfied: filelock in /usr/local/lib/python3.11/dist-packages (from huggingface-hub>=0.20.0->sentence-transformers) (3.18.0)\n",
            "Requirement already satisfied: fsspec>=2023.5.0 in /usr/local/lib/python3.11/dist-packages (from huggingface-hub>=0.20.0->sentence-transformers) (2025.3.2)\n",
            "Requirement already satisfied: packaging>=20.9 in /usr/local/lib/python3.11/dist-packages (from huggingface-hub>=0.20.0->sentence-transformers) (24.2)\n",
            "Requirement already satisfied: pyyaml>=5.1 in /usr/local/lib/python3.11/dist-packages (from huggingface-hub>=0.20.0->sentence-transformers) (6.0.2)\n",
            "Requirement already satisfied: requests in /usr/local/lib/python3.11/dist-packages (from huggingface-hub>=0.20.0->sentence-transformers) (2.32.3)\n",
            "Requirement already satisfied: typing-extensions>=3.7.4.3 in /usr/local/lib/python3.11/dist-packages (from huggingface-hub>=0.20.0->sentence-transformers) (4.13.1)\n",
            "Requirement already satisfied: networkx in /usr/local/lib/python3.11/dist-packages (from torch>=1.11.0->sentence-transformers) (3.4.2)\n",
            "Requirement already satisfied: jinja2 in /usr/local/lib/python3.11/dist-packages (from torch>=1.11.0->sentence-transformers) (3.1.6)\n",
            "Requirement already satisfied: nvidia-cuda-nvrtc-cu12==12.4.127 in /usr/local/lib/python3.11/dist-packages (from torch>=1.11.0->sentence-transformers) (12.4.127)\n",
            "Requirement already satisfied: nvidia-cuda-runtime-cu12==12.4.127 in /usr/local/lib/python3.11/dist-packages (from torch>=1.11.0->sentence-transformers) (12.4.127)\n",
            "Requirement already satisfied: nvidia-cuda-cupti-cu12==12.4.127 in /usr/local/lib/python3.11/dist-packages (from torch>=1.11.0->sentence-transformers) (12.4.127)\n",
            "Requirement already satisfied: nvidia-cudnn-cu12==9.1.0.70 in /usr/local/lib/python3.11/dist-packages (from torch>=1.11.0->sentence-transformers) (9.1.0.70)\n",
            "Requirement already satisfied: nvidia-cublas-cu12==12.4.5.8 in /usr/local/lib/python3.11/dist-packages (from torch>=1.11.0->sentence-transformers) (12.4.5.8)\n",
            "Requirement already satisfied: nvidia-cufft-cu12==11.2.1.3 in /usr/local/lib/python3.11/dist-packages (from torch>=1.11.0->sentence-transformers) (11.2.1.3)\n",
            "Requirement already satisfied: nvidia-curand-cu12==10.3.5.147 in /usr/local/lib/python3.11/dist-packages (from torch>=1.11.0->sentence-transformers) (10.3.5.147)\n",
            "Requirement already satisfied: nvidia-cusolver-cu12==11.6.1.9 in /usr/local/lib/python3.11/dist-packages (from torch>=1.11.0->sentence-transformers) (11.6.1.9)\n",
            "Requirement already satisfied: nvidia-cusparse-cu12==12.3.1.170 in /usr/local/lib/python3.11/dist-packages (from torch>=1.11.0->sentence-transformers) (12.3.1.170)\n",
            "Requirement already satisfied: nvidia-cusparselt-cu12==0.6.2 in /usr/local/lib/python3.11/dist-packages (from torch>=1.11.0->sentence-transformers) (0.6.2)\n",
            "Requirement already satisfied: nvidia-nccl-cu12==2.21.5 in /usr/local/lib/python3.11/dist-packages (from torch>=1.11.0->sentence-transformers) (2.21.5)\n",
            "Requirement already satisfied: nvidia-nvtx-cu12==12.4.127 in /usr/local/lib/python3.11/dist-packages (from torch>=1.11.0->sentence-transformers) (12.4.127)\n",
            "Requirement already satisfied: nvidia-nvjitlink-cu12==12.4.127 in /usr/local/lib/python3.11/dist-packages (from torch>=1.11.0->sentence-transformers) (12.4.127)\n",
            "Requirement already satisfied: triton==3.2.0 in /usr/local/lib/python3.11/dist-packages (from torch>=1.11.0->sentence-transformers) (3.2.0)\n",
            "Requirement already satisfied: sympy==1.13.1 in /usr/local/lib/python3.11/dist-packages (from torch>=1.11.0->sentence-transformers) (1.13.1)\n",
            "Requirement already satisfied: mpmath<1.4,>=1.1.0 in /usr/local/lib/python3.11/dist-packages (from sympy==1.13.1->torch>=1.11.0->sentence-transformers) (1.3.0)\n",
            "Requirement already satisfied: numpy>=1.17 in /usr/local/lib/python3.11/dist-packages (from transformers<5.0.0,>=4.41.0->sentence-transformers) (1.26.4)\n",
            "Requirement already satisfied: regex!=2019.12.17 in /usr/local/lib/python3.11/dist-packages (from transformers<5.0.0,>=4.41.0->sentence-transformers) (2024.11.6)\n",
            "Requirement already satisfied: tokenizers<0.22,>=0.21 in /usr/local/lib/python3.11/dist-packages (from transformers<5.0.0,>=4.41.0->sentence-transformers) (0.21.1)\n",
            "Requirement already satisfied: safetensors>=0.4.3 in /usr/local/lib/python3.11/dist-packages (from transformers<5.0.0,>=4.41.0->sentence-transformers) (0.5.3)\n",
            "Requirement already satisfied: joblib>=1.2.0 in /usr/local/lib/python3.11/dist-packages (from scikit-learn->sentence-transformers) (1.4.2)\n",
            "Requirement already satisfied: threadpoolctl>=3.1.0 in /usr/local/lib/python3.11/dist-packages (from scikit-learn->sentence-transformers) (3.6.0)\n",
            "Requirement already satisfied: MarkupSafe>=2.0 in /usr/local/lib/python3.11/dist-packages (from jinja2->torch>=1.11.0->sentence-transformers) (3.0.2)\n",
            "Requirement already satisfied: charset-normalizer<4,>=2 in /usr/local/lib/python3.11/dist-packages (from requests->huggingface-hub>=0.20.0->sentence-transformers) (3.4.1)\n",
            "Requirement already satisfied: idna<4,>=2.5 in /usr/local/lib/python3.11/dist-packages (from requests->huggingface-hub>=0.20.0->sentence-transformers) (3.10)\n",
            "Requirement already satisfied: urllib3<3,>=1.21.1 in /usr/local/lib/python3.11/dist-packages (from requests->huggingface-hub>=0.20.0->sentence-transformers) (2.3.0)\n",
            "Requirement already satisfied: certifi>=2017.4.17 in /usr/local/lib/python3.11/dist-packages (from requests->huggingface-hub>=0.20.0->sentence-transformers) (2025.1.31)\n",
            "Requirement already satisfied: langchain_huggingface in /usr/local/lib/python3.11/dist-packages (0.1.2)\n",
            "Requirement already satisfied: huggingface-hub>=0.23.0 in /usr/local/lib/python3.11/dist-packages (from langchain_huggingface) (0.30.1)\n",
            "Requirement already satisfied: langchain-core<0.4.0,>=0.3.15 in /usr/local/lib/python3.11/dist-packages (from langchain_huggingface) (0.3.51)\n",
            "Requirement already satisfied: sentence-transformers>=2.6.0 in /usr/local/lib/python3.11/dist-packages (from langchain_huggingface) (3.4.1)\n",
            "Requirement already satisfied: tokenizers>=0.19.1 in /usr/local/lib/python3.11/dist-packages (from langchain_huggingface) (0.21.1)\n",
            "Requirement already satisfied: transformers>=4.39.0 in /usr/local/lib/python3.11/dist-packages (from langchain_huggingface) (4.50.3)\n",
            "Requirement already satisfied: filelock in /usr/local/lib/python3.11/dist-packages (from huggingface-hub>=0.23.0->langchain_huggingface) (3.18.0)\n",
            "Requirement already satisfied: fsspec>=2023.5.0 in /usr/local/lib/python3.11/dist-packages (from huggingface-hub>=0.23.0->langchain_huggingface) (2025.3.2)\n",
            "Requirement already satisfied: packaging>=20.9 in /usr/local/lib/python3.11/dist-packages (from huggingface-hub>=0.23.0->langchain_huggingface) (24.2)\n",
            "Requirement already satisfied: pyyaml>=5.1 in /usr/local/lib/python3.11/dist-packages (from huggingface-hub>=0.23.0->langchain_huggingface) (6.0.2)\n",
            "Requirement already satisfied: requests in /usr/local/lib/python3.11/dist-packages (from huggingface-hub>=0.23.0->langchain_huggingface) (2.32.3)\n",
            "Requirement already satisfied: tqdm>=4.42.1 in /usr/local/lib/python3.11/dist-packages (from huggingface-hub>=0.23.0->langchain_huggingface) (4.67.1)\n",
            "Requirement already satisfied: typing-extensions>=3.7.4.3 in /usr/local/lib/python3.11/dist-packages (from huggingface-hub>=0.23.0->langchain_huggingface) (4.13.1)\n",
            "Requirement already satisfied: langsmith<0.4,>=0.1.125 in /usr/local/lib/python3.11/dist-packages (from langchain-core<0.4.0,>=0.3.15->langchain_huggingface) (0.1.147)\n",
            "Requirement already satisfied: tenacity!=8.4.0,<10.0.0,>=8.1.0 in /usr/local/lib/python3.11/dist-packages (from langchain-core<0.4.0,>=0.3.15->langchain_huggingface) (8.5.0)\n",
            "Requirement already satisfied: jsonpatch<2.0,>=1.33 in /usr/local/lib/python3.11/dist-packages (from langchain-core<0.4.0,>=0.3.15->langchain_huggingface) (1.33)\n",
            "Requirement already satisfied: pydantic<3.0.0,>=2.5.2 in /usr/local/lib/python3.11/dist-packages (from langchain-core<0.4.0,>=0.3.15->langchain_huggingface) (2.11.2)\n",
            "Requirement already satisfied: torch>=1.11.0 in /usr/local/lib/python3.11/dist-packages (from sentence-transformers>=2.6.0->langchain_huggingface) (2.6.0+cu124)\n",
            "Requirement already satisfied: scikit-learn in /usr/local/lib/python3.11/dist-packages (from sentence-transformers>=2.6.0->langchain_huggingface) (1.6.1)\n",
            "Requirement already satisfied: scipy in /usr/local/lib/python3.11/dist-packages (from sentence-transformers>=2.6.0->langchain_huggingface) (1.14.1)\n",
            "Requirement already satisfied: Pillow in /usr/local/lib/python3.11/dist-packages (from sentence-transformers>=2.6.0->langchain_huggingface) (11.1.0)\n",
            "Requirement already satisfied: numpy>=1.17 in /usr/local/lib/python3.11/dist-packages (from transformers>=4.39.0->langchain_huggingface) (1.26.4)\n",
            "Requirement already satisfied: regex!=2019.12.17 in /usr/local/lib/python3.11/dist-packages (from transformers>=4.39.0->langchain_huggingface) (2024.11.6)\n",
            "Requirement already satisfied: safetensors>=0.4.3 in /usr/local/lib/python3.11/dist-packages (from transformers>=4.39.0->langchain_huggingface) (0.5.3)\n",
            "Requirement already satisfied: jsonpointer>=1.9 in /usr/local/lib/python3.11/dist-packages (from jsonpatch<2.0,>=1.33->langchain-core<0.4.0,>=0.3.15->langchain_huggingface) (3.0.0)\n",
            "Requirement already satisfied: httpx<1,>=0.23.0 in /usr/local/lib/python3.11/dist-packages (from langsmith<0.4,>=0.1.125->langchain-core<0.4.0,>=0.3.15->langchain_huggingface) (0.28.1)\n",
            "Requirement already satisfied: orjson<4.0.0,>=3.9.14 in /usr/local/lib/python3.11/dist-packages (from langsmith<0.4,>=0.1.125->langchain-core<0.4.0,>=0.3.15->langchain_huggingface) (3.10.16)\n",
            "Requirement already satisfied: requests-toolbelt<2.0.0,>=1.0.0 in /usr/local/lib/python3.11/dist-packages (from langsmith<0.4,>=0.1.125->langchain-core<0.4.0,>=0.3.15->langchain_huggingface) (1.0.0)\n",
            "Requirement already satisfied: annotated-types>=0.6.0 in /usr/local/lib/python3.11/dist-packages (from pydantic<3.0.0,>=2.5.2->langchain-core<0.4.0,>=0.3.15->langchain_huggingface) (0.7.0)\n",
            "Requirement already satisfied: pydantic-core==2.33.1 in /usr/local/lib/python3.11/dist-packages (from pydantic<3.0.0,>=2.5.2->langchain-core<0.4.0,>=0.3.15->langchain_huggingface) (2.33.1)\n",
            "Requirement already satisfied: typing-inspection>=0.4.0 in /usr/local/lib/python3.11/dist-packages (from pydantic<3.0.0,>=2.5.2->langchain-core<0.4.0,>=0.3.15->langchain_huggingface) (0.4.0)\n",
            "Requirement already satisfied: charset-normalizer<4,>=2 in /usr/local/lib/python3.11/dist-packages (from requests->huggingface-hub>=0.23.0->langchain_huggingface) (3.4.1)\n",
            "Requirement already satisfied: idna<4,>=2.5 in /usr/local/lib/python3.11/dist-packages (from requests->huggingface-hub>=0.23.0->langchain_huggingface) (3.10)\n",
            "Requirement already satisfied: urllib3<3,>=1.21.1 in /usr/local/lib/python3.11/dist-packages (from requests->huggingface-hub>=0.23.0->langchain_huggingface) (2.3.0)\n",
            "Requirement already satisfied: certifi>=2017.4.17 in /usr/local/lib/python3.11/dist-packages (from requests->huggingface-hub>=0.23.0->langchain_huggingface) (2025.1.31)\n",
            "Requirement already satisfied: networkx in /usr/local/lib/python3.11/dist-packages (from torch>=1.11.0->sentence-transformers>=2.6.0->langchain_huggingface) (3.4.2)\n",
            "Requirement already satisfied: jinja2 in /usr/local/lib/python3.11/dist-packages (from torch>=1.11.0->sentence-transformers>=2.6.0->langchain_huggingface) (3.1.6)\n",
            "Requirement already satisfied: nvidia-cuda-nvrtc-cu12==12.4.127 in /usr/local/lib/python3.11/dist-packages (from torch>=1.11.0->sentence-transformers>=2.6.0->langchain_huggingface) (12.4.127)\n",
            "Requirement already satisfied: nvidia-cuda-runtime-cu12==12.4.127 in /usr/local/lib/python3.11/dist-packages (from torch>=1.11.0->sentence-transformers>=2.6.0->langchain_huggingface) (12.4.127)\n",
            "Requirement already satisfied: nvidia-cuda-cupti-cu12==12.4.127 in /usr/local/lib/python3.11/dist-packages (from torch>=1.11.0->sentence-transformers>=2.6.0->langchain_huggingface) (12.4.127)\n",
            "Requirement already satisfied: nvidia-cudnn-cu12==9.1.0.70 in /usr/local/lib/python3.11/dist-packages (from torch>=1.11.0->sentence-transformers>=2.6.0->langchain_huggingface) (9.1.0.70)\n",
            "Requirement already satisfied: nvidia-cublas-cu12==12.4.5.8 in /usr/local/lib/python3.11/dist-packages (from torch>=1.11.0->sentence-transformers>=2.6.0->langchain_huggingface) (12.4.5.8)\n",
            "Requirement already satisfied: nvidia-cufft-cu12==11.2.1.3 in /usr/local/lib/python3.11/dist-packages (from torch>=1.11.0->sentence-transformers>=2.6.0->langchain_huggingface) (11.2.1.3)\n",
            "Requirement already satisfied: nvidia-curand-cu12==10.3.5.147 in /usr/local/lib/python3.11/dist-packages (from torch>=1.11.0->sentence-transformers>=2.6.0->langchain_huggingface) (10.3.5.147)\n",
            "Requirement already satisfied: nvidia-cusolver-cu12==11.6.1.9 in /usr/local/lib/python3.11/dist-packages (from torch>=1.11.0->sentence-transformers>=2.6.0->langchain_huggingface) (11.6.1.9)\n",
            "Requirement already satisfied: nvidia-cusparse-cu12==12.3.1.170 in /usr/local/lib/python3.11/dist-packages (from torch>=1.11.0->sentence-transformers>=2.6.0->langchain_huggingface) (12.3.1.170)\n",
            "Requirement already satisfied: nvidia-cusparselt-cu12==0.6.2 in /usr/local/lib/python3.11/dist-packages (from torch>=1.11.0->sentence-transformers>=2.6.0->langchain_huggingface) (0.6.2)\n",
            "Requirement already satisfied: nvidia-nccl-cu12==2.21.5 in /usr/local/lib/python3.11/dist-packages (from torch>=1.11.0->sentence-transformers>=2.6.0->langchain_huggingface) (2.21.5)\n",
            "Requirement already satisfied: nvidia-nvtx-cu12==12.4.127 in /usr/local/lib/python3.11/dist-packages (from torch>=1.11.0->sentence-transformers>=2.6.0->langchain_huggingface) (12.4.127)\n",
            "Requirement already satisfied: nvidia-nvjitlink-cu12==12.4.127 in /usr/local/lib/python3.11/dist-packages (from torch>=1.11.0->sentence-transformers>=2.6.0->langchain_huggingface) (12.4.127)\n",
            "Requirement already satisfied: triton==3.2.0 in /usr/local/lib/python3.11/dist-packages (from torch>=1.11.0->sentence-transformers>=2.6.0->langchain_huggingface) (3.2.0)\n",
            "Requirement already satisfied: sympy==1.13.1 in /usr/local/lib/python3.11/dist-packages (from torch>=1.11.0->sentence-transformers>=2.6.0->langchain_huggingface) (1.13.1)\n",
            "Requirement already satisfied: mpmath<1.4,>=1.1.0 in /usr/local/lib/python3.11/dist-packages (from sympy==1.13.1->torch>=1.11.0->sentence-transformers>=2.6.0->langchain_huggingface) (1.3.0)\n",
            "Requirement already satisfied: joblib>=1.2.0 in /usr/local/lib/python3.11/dist-packages (from scikit-learn->sentence-transformers>=2.6.0->langchain_huggingface) (1.4.2)\n",
            "Requirement already satisfied: threadpoolctl>=3.1.0 in /usr/local/lib/python3.11/dist-packages (from scikit-learn->sentence-transformers>=2.6.0->langchain_huggingface) (3.6.0)\n",
            "Requirement already satisfied: anyio in /usr/local/lib/python3.11/dist-packages (from httpx<1,>=0.23.0->langsmith<0.4,>=0.1.125->langchain-core<0.4.0,>=0.3.15->langchain_huggingface) (4.9.0)\n",
            "Requirement already satisfied: httpcore==1.* in /usr/local/lib/python3.11/dist-packages (from httpx<1,>=0.23.0->langsmith<0.4,>=0.1.125->langchain-core<0.4.0,>=0.3.15->langchain_huggingface) (1.0.7)\n",
            "Requirement already satisfied: h11<0.15,>=0.13 in /usr/local/lib/python3.11/dist-packages (from httpcore==1.*->httpx<1,>=0.23.0->langsmith<0.4,>=0.1.125->langchain-core<0.4.0,>=0.3.15->langchain_huggingface) (0.14.0)\n",
            "Requirement already satisfied: MarkupSafe>=2.0 in /usr/local/lib/python3.11/dist-packages (from jinja2->torch>=1.11.0->sentence-transformers>=2.6.0->langchain_huggingface) (3.0.2)\n",
            "Requirement already satisfied: sniffio>=1.1 in /usr/local/lib/python3.11/dist-packages (from anyio->httpx<1,>=0.23.0->langsmith<0.4,>=0.1.125->langchain-core<0.4.0,>=0.3.15->langchain_huggingface) (1.3.1)\n",
            "Collecting numpy==2.2.0\n",
            "  Using cached numpy-2.2.0-cp311-cp311-manylinux_2_17_x86_64.manylinux2014_x86_64.whl.metadata (62 kB)\n",
            "Using cached numpy-2.2.0-cp311-cp311-manylinux_2_17_x86_64.manylinux2014_x86_64.whl (16.4 MB)\n",
            "Installing collected packages: numpy\n",
            "  Attempting uninstall: numpy\n",
            "    Found existing installation: numpy 1.26.4\n",
            "    Uninstalling numpy-1.26.4:\n",
            "      Successfully uninstalled numpy-1.26.4\n",
            "\u001b[31mERROR: pip's dependency resolver does not currently take into account all the packages that are installed. This behaviour is the source of the following dependency conflicts.\n",
            "gigachain 0.2.16 requires numpy<2,>=1; python_version < \"3.12\", but you have numpy 2.2.0 which is incompatible.\n",
            "gigachain-community 0.2.16.post3 requires numpy<2,>=1; python_version < \"3.12\", but you have numpy 2.2.0 which is incompatible.\n",
            "numba 0.60.0 requires numpy<2.1,>=1.22, but you have numpy 2.2.0 which is incompatible.\n",
            "tensorflow 2.18.0 requires numpy<2.1.0,>=1.26.0, but you have numpy 2.2.0 which is incompatible.\u001b[0m\u001b[31m\n",
            "\u001b[0mSuccessfully installed numpy-2.2.0\n"
          ]
        }
      ],
      "source": [
        "!pip install gigachain\n",
        "!pip install gigachain-community\n",
        "!pip install unstructured[all-docs]\n",
        "!pip install faiss-cpu\n",
        "!pip install sentence-transformers\n",
        "!pip install langchain_huggingface\n",
        "!pip install \"numpy==2.2.0\""
      ]
    },
    {
      "cell_type": "code",
      "source": [
        "from langchain_community.document_loaders.word_document import UnstructuredWordDocumentLoader\n",
        "from langchain_text_splitters.character import RecursiveCharacterTextSplitter\n",
        "\n",
        "text_splitter = RecursiveCharacterTextSplitter(chunk_size=1000, chunk_overlap=100)\n",
        "word_file = \"little_prince.docx\"\n",
        "loader = UnstructuredWordDocumentLoader(word_file)\n",
        "split_data = loader.load_and_split(text_splitter)"
      ],
      "metadata": {
        "id": "Bsfx54JEmOPU"
      },
      "execution_count": 10,
      "outputs": []
    },
    {
      "cell_type": "code",
      "source": [
        "len(split_data)"
      ],
      "metadata": {
        "colab": {
          "base_uri": "https://localhost:8080/"
        },
        "id": "BCxJ08HGwhoG",
        "outputId": "d54f9f71-8eab-4fd6-d8c1-d56a1383c841"
      },
      "execution_count": 11,
      "outputs": [
        {
          "output_type": "execute_result",
          "data": {
            "text/plain": [
              "93"
            ]
          },
          "metadata": {},
          "execution_count": 11
        }
      ]
    },
    {
      "cell_type": "code",
      "source": [
        "from langchain_huggingface import HuggingFaceEmbeddings\n",
        "from langchain.vectorstores.faiss import FAISS"
      ],
      "metadata": {
        "id": "wz0Nx7mhxv6p"
      },
      "execution_count": 12,
      "outputs": []
    },
    {
      "cell_type": "code",
      "source": [
        "model_name = \"sentence-transformers/paraphrase-multilingual-mpnet-base-v2\"\n",
        "model_kwargs = {'device': 'cpu'}\n",
        "encode_kwargs = {'normalize_embeddings': False}\n",
        "embedding = HuggingFaceEmbeddings(model_name=model_name,\n",
        "                                  model_kwargs=model_kwargs,\n",
        "                                  encode_kwargs=encode_kwargs)\n",
        "\n",
        "vector_store = FAISS.from_documents(split_data, embedding=embedding)"
      ],
      "metadata": {
        "id": "F4w3Ee3hx9yI"
      },
      "execution_count": 13,
      "outputs": []
    },
    {
      "cell_type": "code",
      "source": [
        "embedding_retriever = vector_store.as_retriever(search_kwargs={\"k\":5})"
      ],
      "metadata": {
        "id": "E4-jynfPK2Z1"
      },
      "execution_count": 14,
      "outputs": []
    },
    {
      "cell_type": "code",
      "source": [
        "from google.colab import userdata\n",
        "auth = userdata.get('SBER_AUTH')"
      ],
      "metadata": {
        "id": "hzc21iQsbWYV"
      },
      "execution_count": 15,
      "outputs": []
    },
    {
      "cell_type": "code",
      "source": [
        "from langchain.chains.combine_documents import create_stuff_documents_chain\n",
        "from langchain_core.prompts import ChatPromptTemplate\n",
        "from langchain.chat_models.gigachat import GigaChat\n",
        "from langchain.chains import create_retrieval_chain"
      ],
      "metadata": {
        "id": "j_TJNWa7bq63"
      },
      "execution_count": 16,
      "outputs": []
    },
    {
      "cell_type": "code",
      "source": [
        "llm = GigaChat(credentials=auth, model='GigaChat-2-Max', verify_ssl_certs=False,\n",
        "               profanity_check=False)\n",
        "prompt = ChatPromptTemplate.from_template('''Ответь на вопрос пользователя.\\\n",
        "Используй только информацию из контекста. Если в контексте нет информации для \\\n",
        "ответа, сообщи об этом пользователю.\n",
        "Контекст: {context}\n",
        "Вопрос: {input}\n",
        "Ответ:''')"
      ],
      "metadata": {
        "id": "OPzZH0q4cXIr"
      },
      "execution_count": 17,
      "outputs": []
    },
    {
      "cell_type": "code",
      "source": [
        "document_chain = create_stuff_documents_chain(llm=llm, prompt=prompt)"
      ],
      "metadata": {
        "id": "C0Gvl59Odich"
      },
      "execution_count": 18,
      "outputs": []
    },
    {
      "cell_type": "code",
      "source": [
        "retrieval_chain = create_retrieval_chain(embedding_retriever, document_chain)"
      ],
      "metadata": {
        "id": "-xldSVBQebH0"
      },
      "execution_count": 19,
      "outputs": []
    },
    {
      "cell_type": "code",
      "source": [
        "q1 = 'Как звали маленького принца?'\n",
        "q2 = 'Кто автор произведения \\\"Маленький принц\\\"?'\n",
        "q3 = 'Какого цвета луна?'\n",
        "q4 = 'Сколько лет маленькому принцу?'"
      ],
      "metadata": {
        "id": "5u5Sidjvet_C"
      },
      "execution_count": 20,
      "outputs": []
    },
    {
      "cell_type": "code",
      "source": [
        "resp1 = retrieval_chain.invoke({'input':q1})\n",
        "resp1"
      ],
      "metadata": {
        "colab": {
          "base_uri": "https://localhost:8080/"
        },
        "id": "vp01DBicfC8W",
        "outputId": "4c4541ef-0dcb-4697-a165-d29bf14def65"
      },
      "execution_count": 21,
      "outputs": [
        {
          "output_type": "execute_result",
          "data": {
            "text/plain": [
              "{'input': 'Как звали маленького принца?',\n",
              " 'context': [Document(id='ac29ae4a-b4e2-4fd3-886d-5d167cb225dd', metadata={'source': 'little_prince.docx'}, page_content='—\\xa0Будем друзьями, я совсем один,\\xa0— сказал он.\\n\\n—\\xa0Один… один… один… — откликнулось эхо.\\n\\n«Какая странная планета!\\xa0— подумал Маленький принц.\\xa0— Совсем сухая, вся в иглах и соленая. И у людей не хватает воображения. Они только повторяют то, что им скажешь… Дома у меня был цветок, моя краса и радость, и он всегда заговаривал первым».\\n\\nХX\\n\\nДолго шел Маленький принц через пески, скалы и снега и, наконец, набрел на дорогу. А все дороги ведут к людям.\\n\\n—\\xa0Добрый день,\\xa0— сказал он.\\n\\nПеред ним был сад, полный роз.\\n\\n—\\xa0Добрый день,\\xa0— отозвались розы.\\n\\nИ Маленький принц увидел, что все они похожи на его цветок.\\n\\n—\\xa0Кто вы?\\xa0— спросил он, пораженный.\\n\\n—\\xa0Мы — розы,\\xa0— отвечали розы.\\n\\n—\\xa0Вот как… — промолвил Маленький принц.\\n\\nИ почувствовал себя очень-очень несчастным. Его красавица говорила ему, что подобных ей нет во всей вселенной. И вот перед ним пять тысяч точно таких же цветов в одном только саду!'),\n",
              "  Document(id='82553cba-669d-4ee9-bbb7-c21243e2f3c2', metadata={'source': 'little_prince.docx'}, page_content='—\\xa0Тогда плохо твое дело,\\xa0— посочувствовал Маленький принц.\\n\\n—\\xa0Плохо мое дело,\\xa0— подтвердил фонарщик.\\xa0— Добрый день.\\n\\nИ погасил фонарь.\\n\\n«Вот человек,\\xa0— сказал себе Маленький принц, продолжая путь,\\xa0— вот человек, которого все стали бы презирать — и король, и честолюбец, и пьяница, и делец. А между тем из них всех он один, по-моему, не смешон. Может быть, потому, что он думает не только о себе».\\n\\nМаленький принц вздохнул.\\n\\n«Вот бы с кем подружиться,\\xa0— подумал он еще.\\xa0— Но его планетка уж очень крохотная. Там нет места для двоих…»\\n\\nОн не смел себе признаться в том, что больше всего жалеет об этой чудесной планетке еще по одной причине: за двадцать четыре часа на ней можно любоваться закатом тысячу четыреста сорок раз!\\n\\nXV\\n\\nШестая планета была в десять раз больше предыдущей. На ней жил старик, который писал толстенные книги.\\n\\n—\\xa0Смотрите-ка! Вот прибыл путешественник!\\xa0— воскликнул он, заметив Маленького принца.\\n\\nМаленький принц сел на стол, чтобы отдышаться. Он уже столько странствовал!'),\n",
              "  Document(id='b02ca656-2a4d-4068-8a79-202ccb362280', metadata={'source': 'little_prince.docx'}, page_content='—\\xa0Ну да. Тридцать минут. Тридцать дней. Добрый вечер!\\n\\nИ он опять засветил фонарь.\\n\\nМаленький принц смотрел на фонарщика, и ему все больше нравился этот человек, который был так верен своему слову. Маленький принц вспомнил, как он когда-то переставлял стул с места на место, чтобы лишний раз поглядеть на закат солнца. И ему захотелось помочь другу.\\n\\n—\\xa0Послушай,\\xa0— сказал он фонарщику,\\xa0— я знаю средство: ты можешь отдыхать, когда только захочешь…\\n\\n—\\xa0Мне все время хочется отдыхать,\\xa0— сказал фонарщик.\\n\\nВедь можно быть верным слову и все-таки ленивым.\\n\\n—\\xa0Твоя планетка такая крохотная,\\xa0— продолжал Маленький принц,\\xa0— ты можешь обойти ее в три шага. И просто нужно идти с такой скоростью, чтобы все время оставаться на солнце. Когда захочется отдохнуть, ты просто все иди, иди… И день будет тянуться столько времени, сколько ты пожелаешь.\\n\\n—\\xa0Ну, от этого мне мало толку,\\xa0— сказал фонарщик.\\xa0— Больше всего на свете я люблю спать.\\n\\n—\\xa0Тогда плохо твое дело,\\xa0— посочувствовал Маленький принц.'),\n",
              "  Document(id='6ac360c0-ac01-4359-b66f-9c5f9f36dacb', metadata={'source': 'little_prince.docx'}, page_content='—\\xa0Это я просто устал…\\n\\nИ все же понемногу я утешился. То есть… Не совсем. Но я знаю, он возвратился на свою планетку, ведь, когда рассвело, я не нашел на песке его тела. Не такое уж оно было тяжелое. А по ночам я люблю слушать звезды. Словно пятьсот миллионов бубенцов…\\n\\nНо вот что поразительно. Когда я рисовал намордник для барашка, я забыл про ремешок! Маленький принц не сможет надеть его на барашка. И я спрашиваю себя: что-то делается там, на его планете? Вдруг барашек съел розу?\\n\\nИногда я говорю себе: «Нет, конечно, нет! Маленький принц на ночь всегда накрывает розу стеклянным колпаком, и он очень следит за барашком…» Тогда я счастлив. И все звезды тихонько смеются.\\n\\nА иногда я говорю себе: «Бываешь же порой рассеянным… тогда все может случиться! Вдруг он как-нибудь вечером забыл про стеклянный колпак или барашек ночью втихомолку выбрался на волю…» И тогда все бубенцы плачут…'),\n",
              "  Document(id='c3206246-1698-4c2e-b47b-3762935a50a5', metadata={'source': 'little_prince.docx'}, page_content='—\\xa0Прощайте,\\xa0— сказал он.\\n\\nКрасавица не ответила.\\n\\n—\\xa0Прощайте,\\xa0— повторил Маленький принц.\\n\\nОна кашлянула. Но не от простуды.\\n\\n—\\xa0Я была глупая,\\xa0— сказала она наконец.\\xa0— Прости меня. И постарайся быть счастливым.\\n\\nИ ни слова упрека. Маленький принц был очень удивлен. Он застыл, смущенный и растерянный, со стеклянным колпаком в руках. Откуда эта тихая нежность?\\n\\n—\\xa0Да, да, я люблю тебя,\\xa0— услышал он.\\xa0— Моя вина, что ты этого не знал. Да это и не важно. Но ты был такой же глупый, как и я. Постарайся быть счастливым… Оставь колпак, он мне больше не нужен.\\n\\n—\\xa0Но ветер…\\n\\n—\\xa0Не так уж я простужена… Ночная свежесть пойдет мне на пользу. Ведь я — цветок.\\n\\n—\\xa0Но звери, насекомые…\\n\\n—\\xa0Должна же я стерпеть двух-трех гусениц, если хочу познакомиться с бабочками. Они, должно быть, прелестны. А то кто же станет меня навещать? Ты ведь будешь далеко. А больших зверей я не боюсь. У меня тоже есть когти.\\n\\nИ она в простоте душевной показала свои четыре шипа. Потом прибавила:')],\n",
              " 'answer': 'Имя маленького принца в произведении Антуана де Сент-Экзюпери нигде не упоминается. Он известен исключительно как \"Маленький принц\".'}"
            ]
          },
          "metadata": {},
          "execution_count": 21
        }
      ]
    },
    {
      "cell_type": "code",
      "source": [
        "resp2 = retrieval_chain.invoke({'input':q2})\n",
        "resp2"
      ],
      "metadata": {
        "colab": {
          "base_uri": "https://localhost:8080/"
        },
        "id": "oTz1XksnfR_C",
        "outputId": "8bef8c8f-3860-4678-de1c-b80ec619fc5e"
      },
      "execution_count": 22,
      "outputs": [
        {
          "output_type": "execute_result",
          "data": {
            "text/plain": [
              "{'input': 'Кто автор произведения \"Маленький принц\"?',\n",
              " 'context': [Document(id='ac29ae4a-b4e2-4fd3-886d-5d167cb225dd', metadata={'source': 'little_prince.docx'}, page_content='—\\xa0Будем друзьями, я совсем один,\\xa0— сказал он.\\n\\n—\\xa0Один… один… один… — откликнулось эхо.\\n\\n«Какая странная планета!\\xa0— подумал Маленький принц.\\xa0— Совсем сухая, вся в иглах и соленая. И у людей не хватает воображения. Они только повторяют то, что им скажешь… Дома у меня был цветок, моя краса и радость, и он всегда заговаривал первым».\\n\\nХX\\n\\nДолго шел Маленький принц через пески, скалы и снега и, наконец, набрел на дорогу. А все дороги ведут к людям.\\n\\n—\\xa0Добрый день,\\xa0— сказал он.\\n\\nПеред ним был сад, полный роз.\\n\\n—\\xa0Добрый день,\\xa0— отозвались розы.\\n\\nИ Маленький принц увидел, что все они похожи на его цветок.\\n\\n—\\xa0Кто вы?\\xa0— спросил он, пораженный.\\n\\n—\\xa0Мы — розы,\\xa0— отвечали розы.\\n\\n—\\xa0Вот как… — промолвил Маленький принц.\\n\\nИ почувствовал себя очень-очень несчастным. Его красавица говорила ему, что подобных ей нет во всей вселенной. И вот перед ним пять тысяч точно таких же цветов в одном только саду!'),\n",
              "  Document(id='82553cba-669d-4ee9-bbb7-c21243e2f3c2', metadata={'source': 'little_prince.docx'}, page_content='—\\xa0Тогда плохо твое дело,\\xa0— посочувствовал Маленький принц.\\n\\n—\\xa0Плохо мое дело,\\xa0— подтвердил фонарщик.\\xa0— Добрый день.\\n\\nИ погасил фонарь.\\n\\n«Вот человек,\\xa0— сказал себе Маленький принц, продолжая путь,\\xa0— вот человек, которого все стали бы презирать — и король, и честолюбец, и пьяница, и делец. А между тем из них всех он один, по-моему, не смешон. Может быть, потому, что он думает не только о себе».\\n\\nМаленький принц вздохнул.\\n\\n«Вот бы с кем подружиться,\\xa0— подумал он еще.\\xa0— Но его планетка уж очень крохотная. Там нет места для двоих…»\\n\\nОн не смел себе признаться в том, что больше всего жалеет об этой чудесной планетке еще по одной причине: за двадцать четыре часа на ней можно любоваться закатом тысячу четыреста сорок раз!\\n\\nXV\\n\\nШестая планета была в десять раз больше предыдущей. На ней жил старик, который писал толстенные книги.\\n\\n—\\xa0Смотрите-ка! Вот прибыл путешественник!\\xa0— воскликнул он, заметив Маленького принца.\\n\\nМаленький принц сел на стол, чтобы отдышаться. Он уже столько странствовал!'),\n",
              "  Document(id='6ac360c0-ac01-4359-b66f-9c5f9f36dacb', metadata={'source': 'little_prince.docx'}, page_content='—\\xa0Это я просто устал…\\n\\nИ все же понемногу я утешился. То есть… Не совсем. Но я знаю, он возвратился на свою планетку, ведь, когда рассвело, я не нашел на песке его тела. Не такое уж оно было тяжелое. А по ночам я люблю слушать звезды. Словно пятьсот миллионов бубенцов…\\n\\nНо вот что поразительно. Когда я рисовал намордник для барашка, я забыл про ремешок! Маленький принц не сможет надеть его на барашка. И я спрашиваю себя: что-то делается там, на его планете? Вдруг барашек съел розу?\\n\\nИногда я говорю себе: «Нет, конечно, нет! Маленький принц на ночь всегда накрывает розу стеклянным колпаком, и он очень следит за барашком…» Тогда я счастлив. И все звезды тихонько смеются.\\n\\nА иногда я говорю себе: «Бываешь же порой рассеянным… тогда все может случиться! Вдруг он как-нибудь вечером забыл про стеклянный колпак или барашек ночью втихомолку выбрался на волю…» И тогда все бубенцы плачут…'),\n",
              "  Document(id='b02ca656-2a4d-4068-8a79-202ccb362280', metadata={'source': 'little_prince.docx'}, page_content='—\\xa0Ну да. Тридцать минут. Тридцать дней. Добрый вечер!\\n\\nИ он опять засветил фонарь.\\n\\nМаленький принц смотрел на фонарщика, и ему все больше нравился этот человек, который был так верен своему слову. Маленький принц вспомнил, как он когда-то переставлял стул с места на место, чтобы лишний раз поглядеть на закат солнца. И ему захотелось помочь другу.\\n\\n—\\xa0Послушай,\\xa0— сказал он фонарщику,\\xa0— я знаю средство: ты можешь отдыхать, когда только захочешь…\\n\\n—\\xa0Мне все время хочется отдыхать,\\xa0— сказал фонарщик.\\n\\nВедь можно быть верным слову и все-таки ленивым.\\n\\n—\\xa0Твоя планетка такая крохотная,\\xa0— продолжал Маленький принц,\\xa0— ты можешь обойти ее в три шага. И просто нужно идти с такой скоростью, чтобы все время оставаться на солнце. Когда захочется отдохнуть, ты просто все иди, иди… И день будет тянуться столько времени, сколько ты пожелаешь.\\n\\n—\\xa0Ну, от этого мне мало толку,\\xa0— сказал фонарщик.\\xa0— Больше всего на свете я люблю спать.\\n\\n—\\xa0Тогда плохо твое дело,\\xa0— посочувствовал Маленький принц.'),\n",
              "  Document(id='3b4236a4-348a-48e6-976d-874185fd79c4', metadata={'source': 'little_prince.docx'}, page_content='—\\xa0А где люди?\\xa0— вежливо спросил Маленький принц.\\n\\nЦветок видел однажды, как мимо шел караван.\\n\\n—\\xa0Люди? Ах да… Их всего-то, кажется, шесть или семь. Я видел их много лет назад. Но где их искать — неизвестно. Их носит ветром. У них нет корней, это очень неудобно.\\n\\n—\\xa0Прощай,\\xa0— сказал Маленький принц.\\n\\n—\\xa0Прощай,\\xa0— сказал цветок.\\n\\nXIX\\n\\nМаленький принц поднялся на высокую гору. Прежде он никогда не видал гор, кроме своих трех вулканов, которые были ему по колено. Потухший вулкан служил ему табуретом. И теперь он подумал: «С такой высокой горы я сразу увижу всю эту планету и всех людей». Но увидел только скалы, острые и тонкие, как иглы.\\n\\n—\\xa0Добрый день,\\xa0— сказал он на всякий случай.\\n\\n—\\xa0Добрый день… день… день… — откликнулось эхо.\\n\\n—\\xa0Кто вы?\\xa0— спросил Маленький принц.\\n\\n—\\xa0Кто вы… кто вы… кто вы… — откликнулось эхо.\\n\\n—\\xa0Будем друзьями, я совсем один,\\xa0— сказал он.\\n\\n—\\xa0Один… один… один… — откликнулось эхо.')],\n",
              " 'answer': 'Антуан де Сент-Экзюпери'}"
            ]
          },
          "metadata": {},
          "execution_count": 22
        }
      ]
    },
    {
      "cell_type": "code",
      "source": [
        "resp3 = retrieval_chain.invoke({'input':q3})\n",
        "resp3"
      ],
      "metadata": {
        "colab": {
          "base_uri": "https://localhost:8080/"
        },
        "id": "po4L1MXNf8Xd",
        "outputId": "9fb74219-a45a-49df-fe0a-cee315f2980f"
      },
      "execution_count": 23,
      "outputs": [
        {
          "output_type": "stream",
          "name": "stderr",
          "text": [
            "WARNING:langchain_community.chat_models.gigachat:Giga generation stopped with reason: blacklist\n"
          ]
        },
        {
          "output_type": "execute_result",
          "data": {
            "text/plain": [
              "{'input': 'Какого цвета луна?',\n",
              " 'context': [Document(id='8e7d8f53-c7ea-4b45-8ba6-b2bcc4b93b2f', metadata={'source': 'little_prince.docx'}, page_content='—\\xa0Звезды очень красивые, потому что где-то там есть цветок, хоть его и не видно…\\n\\n—\\xa0Да, конечно,\\xa0— сказал я только, глядя на волнистый песок, освещенный луною.\\n\\n—\\xa0И пустыня красивая… — прибавил Маленький принц.\\n\\nЭто правда. Мне всегда нравилось в пустыне. Сидишь на песчаной дюне. Ничего не видно. Ничего не слышно. И все же в тишине что-то светится…\\n\\n—\\xa0Знаешь, отчего хороша пустыня?\\xa0— сказал он.\\xa0— Где-то в ней скрываются родники…\\n\\nЯ был поражен, вдруг я понял, что означает таинственный свет, исходящий от песков. Когда-то, маленьким мальчиком, я жил в старом-престаром доме — рассказывали, будто в нем запрятан клад. Разумеется, никто его так и не открыл, а может быть, никто никогда его и не искал. Но из-за него дом был словно заколдован: в сердце своем он скрывал тайну…\\n\\n—\\xa0Да,\\xa0— сказал я.\\xa0— Будь то дом, звезды или пустыня — самое прекрасное в них то, чего не увидишь глазами.\\n\\n—\\xa0Я очень рад, что ты согласен с моим другом Лисом,\\xa0— отозвался Маленький принц.'),\n",
              "  Document(id='42cdea56-934d-4bca-ad5f-7a7e4e96d006', metadata={'source': 'little_prince.docx'}, page_content='Только тому фонарщику, что должен был зажигать единственный фонарь на северном полюсе, да его собрату на южном полюсе,\\xa0— только этим двоим жилось легко и беззаботно: им приходилось заниматься своим делом всего два раза в год.\\n\\nХVII\\n\\nКогда очень хочешь сострить, иной раз поневоле приврешь. Рассказывая о фонарщиках, я несколько погрешил против истины. Боюсь, что у тех, кто не знает нашей планеты, сложится о ней ложное представление. Люди занимают на Земле не так уж много места. Если бы два миллиарда ее жителей сошлись и стали сплошной толпой, как на митинге, все они без труда уместились бы на пространстве размером двадцать миль в длину и двадцать в ширину. Все человечество можно бы составить плечом к плечу на самом маленьком островке в Тихом океане.'),\n",
              "  Document(id='cce3fc61-bae5-46f0-967c-d334142286c0', metadata={'source': 'little_prince.docx'}, page_content='—\\xa0Я очень рад, что ты согласен с моим другом Лисом,\\xa0— отозвался Маленький принц.\\n\\nПотом он уснул, я взял его на руки и пошел дальше. Я был взволнован. Мне казалось — я несу хрупкое сокровище. Мне казалось даже, что ничего более хрупкого нет на нашей Земле. При свете луны я смотрел на его бледный лоб, на сомкнутые ресницы, на золотые пряди волос, которые перебирал ветер, и говорил себе: все это лишь оболочка. Самое главное — то, чего не увидишь глазами…\\n\\nЕго полуоткрытые губы дрогнули в улыбке, и я сказал себе еще: трогательней всего в этом спящем Маленьком принце его верность цветку, образ розы, который сияет в нем, словно пламя светильника, даже когда он спит… И я понял, что он еще более хрупок, чем кажется. Светильники надо беречь: порыв ветра может погасить их…\\n\\nТак я шел — и на рассвете дошел до колодца.\\n\\nXXV'),\n",
              "  Document(id='b4550c67-8742-4df9-b0f6-8a099d4f48eb', metadata={'source': 'little_prince.docx'}, page_content='—\\xa0Да, конечно…\\n\\n—\\xa0Это как с водой. Когда ты дал мне напиться, та вода была как музыка, а все из-за ворота и веревки… Помнишь? Она была очень хорошая.\\n\\n—\\xa0Да, конечно…\\n\\n—\\xa0Ночью ты посмотришь на звезды. Моя звезда очень маленькая, я не могу ее тебе показать. Так лучше. Она будет для тебя просто — одна из звезд. И ты полюбишь смотреть на звезды… Все они станут тебе друзьями. И потом, я тебе кое-что подарю…\\n\\nИ он засмеялся.\\n\\n—\\xa0Ах, малыш, малыш, как я люблю, когда ты смеешься!\\n\\n—\\xa0Вот это и есть мой подарок… это будет, как с водой…\\n\\n—\\xa0Как так?\\n\\n—\\xa0У каждого человека свои звезды. Одним — тем, кто странствует,\\xa0— они указывают путь. Для других это просто маленькие огоньки. Для ученых они — как задача, которую надо решить. Для моего дельца они — золото. Но для всех этих людей звезды — немые. А у тебя будут совсем особенные звезды…\\n\\n—\\xa0Как так?'),\n",
              "  Document(id='6ac360c0-ac01-4359-b66f-9c5f9f36dacb', metadata={'source': 'little_prince.docx'}, page_content='—\\xa0Это я просто устал…\\n\\nИ все же понемногу я утешился. То есть… Не совсем. Но я знаю, он возвратился на свою планетку, ведь, когда рассвело, я не нашел на песке его тела. Не такое уж оно было тяжелое. А по ночам я люблю слушать звезды. Словно пятьсот миллионов бубенцов…\\n\\nНо вот что поразительно. Когда я рисовал намордник для барашка, я забыл про ремешок! Маленький принц не сможет надеть его на барашка. И я спрашиваю себя: что-то делается там, на его планете? Вдруг барашек съел розу?\\n\\nИногда я говорю себе: «Нет, конечно, нет! Маленький принц на ночь всегда накрывает розу стеклянным колпаком, и он очень следит за барашком…» Тогда я счастлив. И все звезды тихонько смеются.\\n\\nА иногда я говорю себе: «Бываешь же порой рассеянным… тогда все может случиться! Вдруг он как-нибудь вечером забыл про стеклянный колпак или барашек ночью втихомолку выбрался на волю…» И тогда все бубенцы плачут…')],\n",
              " 'answer': 'Что-то в вашем вопросе меня смущает. Может, поговорим на другую тему?'}"
            ]
          },
          "metadata": {},
          "execution_count": 23
        }
      ]
    },
    {
      "cell_type": "code",
      "source": [
        "resp4 = retrieval_chain.invoke({'input':q4})\n",
        "resp4"
      ],
      "metadata": {
        "colab": {
          "base_uri": "https://localhost:8080/"
        },
        "id": "5IwdoZNzgYmN",
        "outputId": "cd138d45-6b15-4091-db89-e6d1ecd2f6cb"
      },
      "execution_count": 24,
      "outputs": [
        {
          "output_type": "execute_result",
          "data": {
            "text/plain": [
              "{'input': 'Сколько лет маленькому принцу?',\n",
              " 'context': [Document(id='b02ca656-2a4d-4068-8a79-202ccb362280', metadata={'source': 'little_prince.docx'}, page_content='—\\xa0Ну да. Тридцать минут. Тридцать дней. Добрый вечер!\\n\\nИ он опять засветил фонарь.\\n\\nМаленький принц смотрел на фонарщика, и ему все больше нравился этот человек, который был так верен своему слову. Маленький принц вспомнил, как он когда-то переставлял стул с места на место, чтобы лишний раз поглядеть на закат солнца. И ему захотелось помочь другу.\\n\\n—\\xa0Послушай,\\xa0— сказал он фонарщику,\\xa0— я знаю средство: ты можешь отдыхать, когда только захочешь…\\n\\n—\\xa0Мне все время хочется отдыхать,\\xa0— сказал фонарщик.\\n\\nВедь можно быть верным слову и все-таки ленивым.\\n\\n—\\xa0Твоя планетка такая крохотная,\\xa0— продолжал Маленький принц,\\xa0— ты можешь обойти ее в три шага. И просто нужно идти с такой скоростью, чтобы все время оставаться на солнце. Когда захочется отдохнуть, ты просто все иди, иди… И день будет тянуться столько времени, сколько ты пожелаешь.\\n\\n—\\xa0Ну, от этого мне мало толку,\\xa0— сказал фонарщик.\\xa0— Больше всего на свете я люблю спать.\\n\\n—\\xa0Тогда плохо твое дело,\\xa0— посочувствовал Маленький принц.'),\n",
              "  Document(id='811fbb23-36bf-4639-aa29-68e231d76ed0', metadata={'source': 'little_prince.docx'}, page_content='—\\xa0Ну конечно,\\xa0— отвечал король.\\xa0— Звезды повинуются мгновенно. Я не терплю непослушания.\\n\\nМаленький принц был восхищен. Вот бы ему такое могущество! Он бы тогда любовался закатом солнца не сорок четыре раза в день, а семьдесят два, а то и сто, и двести раз, и при этом ему даже не приходилось бы передвигать стул с места на место! Тут он снова загрустил, вспоминая свою покинутую планету, и набравшись храбрости, попросил короля:\\n\\n—\\xa0Мне хотелось бы поглядеть на заход солнца… Пожалуйста, сделайте милость, повелите солнцу закатиться…\\n\\n—\\xa0Если я прикажу какому-нибудь генералу порхать бабочкой с цветка на цветок, или сочинить трагедию, или обернуться морской чайкой и генерал не выполнит приказа, кто будет в этом виноват — он или я?\\n\\n—\\xa0Вы, ваше величество,\\xa0— ни минуты не колеблясь, ответил Маленький принц.'),\n",
              "  Document(id='b4cb7bff-9a74-4da9-ab5f-e3b9d86c5a26', metadata={'source': 'little_prince.docx'}, page_content='Маленький принц оглянулся — нельзя ли где-нибудь сесть, но великолепная горностаевая мантия покрывала всю планету. Пришлось стоять, а он так устал… и вдруг он зевнул.\\n\\n—\\xa0Этикет не разрешает зевать в присутствии монарха,\\xa0— сказал король.\\xa0— Я запрещаю тебе зевать.\\n\\n—\\xa0Я нечаянно,\\xa0— ответил Маленький принц, очень смущенный.\\xa0— Я долго был в пути и совсем не спал…\\n\\n—\\xa0Ну, тогда я повелеваю тебе зевать,\\xa0— сказал король.\\xa0— Многие годы я не видел, чтобы кто-нибудь зевал. Мне это даже любопытно. Итак, зевай! Таков мой приказ.\\n\\n—\\xa0Но я робею… я больше не могу… — вымолвил Маленький принц и весь покраснел.\\n\\n—\\xa0Гм, гм… Тогда… Тогда я повелеваю тебе то зевать, то…\\n\\nКороль запутался и, кажется, даже немного рассердился.\\n\\nВедь для короля самое важное — чтобы ему повиновались беспрекословно. Непокорства он бы не потерпел. Это был абсолютный монарх. Но он был очень добр, а потому отдавал только разумные приказания.'),\n",
              "  Document(id='6ac360c0-ac01-4359-b66f-9c5f9f36dacb', metadata={'source': 'little_prince.docx'}, page_content='—\\xa0Это я просто устал…\\n\\nИ все же понемногу я утешился. То есть… Не совсем. Но я знаю, он возвратился на свою планетку, ведь, когда рассвело, я не нашел на песке его тела. Не такое уж оно было тяжелое. А по ночам я люблю слушать звезды. Словно пятьсот миллионов бубенцов…\\n\\nНо вот что поразительно. Когда я рисовал намордник для барашка, я забыл про ремешок! Маленький принц не сможет надеть его на барашка. И я спрашиваю себя: что-то делается там, на его планете? Вдруг барашек съел розу?\\n\\nИногда я говорю себе: «Нет, конечно, нет! Маленький принц на ночь всегда накрывает розу стеклянным колпаком, и он очень следит за барашком…» Тогда я счастлив. И все звезды тихонько смеются.\\n\\nА иногда я говорю себе: «Бываешь же порой рассеянным… тогда все может случиться! Вдруг он как-нибудь вечером забыл про стеклянный колпак или барашек ночью втихомолку выбрался на волю…» И тогда все бубенцы плачут…'),\n",
              "  Document(id='3b449835-c2d6-4b3f-8be9-dd0b46d10fb0', metadata={'source': 'little_prince.docx'}, page_content='—\\xa0Я — Лис,\\xa0— сказал Лис.\\n\\n—\\xa0Поиграй со мной,\\xa0— попросил Маленький принц.\\xa0— Мне так грустно…\\n\\n—\\xa0Не могу я с тобой играть,\\xa0— сказал Лис.\\xa0— Я не приручен.\\n\\n—\\xa0Ах, извини,\\xa0— сказал Маленький принц.\\n\\nНо, подумав, спросил:\\n\\n—\\xa0А как это — приручить?\\n\\n—\\xa0Ты не здешний,\\xa0— заметил Лис.\\xa0— Что ты здесь ищешь?\\n\\n—\\xa0Людей ищу,\\xa0— сказал Маленький принц.\\xa0— А как это — приручить?\\n\\n—\\xa0У людей есть ружья, и они ходят на охоту. Это очень неудобно! И еще они разводят кур. Только этим они и хороши. Ты ищешь кур?\\n\\n—\\xa0Нет,\\xa0— сказал Маленький принц.\\xa0— Я ищу друзей. А как это — приручить?\\n\\n—\\xa0Это давно забытое понятие,\\xa0— объяснил Лис.\\xa0— Оно означает: создать узы.\\n\\n—\\xa0Узы?')],\n",
              " 'answer': 'Информация о возрасте Маленького принца отсутствует в предоставленном тексте.'}"
            ]
          },
          "metadata": {},
          "execution_count": 24
        }
      ]
    }
  ]
}